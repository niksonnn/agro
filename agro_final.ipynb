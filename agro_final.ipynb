{
 "cells": [
  {
   "cell_type": "markdown",
   "metadata": {
    "id": "fnE1_J-4dhSR"
   },
   "source": [
    "## Загрузим нужные библиотеки"
   ]
  },
  {
   "cell_type": "code",
   "execution_count": 1,
   "metadata": {
    "id": "uaKzqUxsdjDa"
   },
   "outputs": [],
   "source": [
    "import pandas as pd\n",
    "import numpy as np\n",
    "import seaborn as sns\n",
    "import matplotlib.pyplot as plt\n",
    "\n",
    "\n",
    "from tqdm import tqdm_notebook  \n",
    "from time import sleep \n",
    "from statsmodels.tsa.arima.model import ARIMA\n",
    "import statsmodels.api as sm\n",
    "from statsmodels.tsa.holtwinters import ExponentialSmoothing\n",
    "from statsmodels.tsa.seasonal import seasonal_decompose\n",
    "from scipy. special import rel_entr\n",
    "\n",
    "import scipy\n",
    "from scipy.special import softmax\n",
    "from scipy.signal import find_peaks\n",
    "from scipy import stats\n",
    "from scipy.signal import resample\n",
    "\n",
    "from tsfresh import extract_features, extract_relevant_features, select_features\n",
    "from tsfresh.feature_selection.relevance import calculate_relevance_table\n",
    "from tsfresh.utilities.dataframe_functions import impute\n",
    "from tsfresh.feature_extraction import settings\n",
    "\n",
    "# для построения моделей воспользуемся sklearn\n",
    "from sklearn.tree import DecisionTreeClassifier\n",
    "from sklearn.model_selection import train_test_split\n",
    "from sklearn.metrics import classification_report, confusion_matrix\n",
    "from sklearn.preprocessing import StandardScaler, MinMaxScaler\n",
    "from sklearn.model_selection import cross_val_score, GridSearchCV\n",
    "from sklearn.metrics import recall_score, precision_score\n",
    "from sklearn import metrics\n",
    "from sklearn.model_selection import RandomizedSearchCV\n",
    "from sklearn.ensemble import RandomForestClassifier\n",
    "from sklearn.ensemble import IsolationForest\n",
    "from sklearn.neighbors import NearestNeighbors\n",
    "from sklearn.ensemble import ExtraTreesClassifier\n",
    "from sklearn.model_selection import KFold\n",
    "\n",
    "\n",
    "\n",
    "\n",
    "%matplotlib inline\n",
    "import seaborn as sns\n",
    "\n",
    "from lightgbm import LGBMClassifier\n",
    "import lightgbm as lgbm\n",
    "\n",
    "\n",
    "from catboost import CatBoostClassifier\n",
    "\n",
    "import optuna \n",
    "from optuna.integration import OptunaSearchCV\n",
    "\n",
    "from prophet import Prophet\n",
    "from PIL import Image\n",
    "\n",
    "import pickle\n",
    "\n",
    "#from prophet import Prophet\n",
    "from random import random\n",
    "\n",
    "from torchvision.models.resnet import ResNet, BasicBlock\n",
    "from torchvision.datasets import MNIST\n",
    "from tqdm.autonotebook import tqdm\n",
    "from sklearn.metrics import precision_score, recall_score, f1_score, accuracy_score\n",
    "import inspect\n",
    "import time\n",
    "from torch import nn, optim\n",
    "from torch.optim import lr_scheduler\n",
    "\n",
    "import torch\n",
    "from torchvision.transforms import Compose, ToTensor, Normalize, Resize\n",
    "from torchvision import models\n",
    "\n",
    "import torch\n",
    "from torch.utils.data import TensorDataset, DataLoader\n",
    "\n",
    "import torch.nn.functional as F\n",
    "from torch.optim import Adam\n",
    "from torchsummary import summary\n",
    "\n",
    "\n",
    "import random\n",
    "\n",
    "import warnings\n",
    "warnings.filterwarnings(\"ignore\")\n",
    "plt.style.use('ggplot')\n",
    "%matplotlib inline"
   ]
  },
  {
   "cell_type": "code",
   "execution_count": 2,
   "metadata": {},
   "outputs": [],
   "source": [
    "def create_image_dataset(df, resize=False, size=(224, 224)):\n",
    "    images = []\n",
    "    for i in tqdm_notebook(df.index):\n",
    "        w = df.loc[i].values\n",
    "        h = w.reshape(w.shape[0], 1)\n",
    "        image = w * h - (np.sqrt(1 - w**2) * np.sqrt(1 - h**2)) \n",
    "        if resize:\n",
    "            image = Image.fromarray(image)\n",
    "            image = image.resize(size)\n",
    "            images.append(np.array(image))\n",
    "        else:\n",
    "            images.append(np.array(image))\n",
    "    return np.array(images)"
   ]
  },
  {
   "cell_type": "code",
   "execution_count": 3,
   "metadata": {},
   "outputs": [],
   "source": [
    "\n",
    "\n",
    "def save_images(images, filename='img_train.pkl'):\n",
    "    output = open(filename, 'wb')\n",
    "    pickle.dump(images, output)\n",
    "    output.close()\n",
    "\n",
    "def load_images(filename):\n",
    "    pkl_file = open(filename, 'rb')\n",
    "    imgs = pickle.load(pkl_file)\n",
    "    pkl_file.close()\n",
    "    return imgs"
   ]
  },
  {
   "cell_type": "code",
   "execution_count": 4,
   "metadata": {},
   "outputs": [],
   "source": [
    "def mean_months(df): \n",
    "    mnts = ['2021-04', '2021-05', '2021-06','2021-07', '2021-08']\n",
    "    for i in mnts:\n",
    "        df[i] = 0\n",
    "        n = 0\n",
    "        for j in df.columns:\n",
    "            if i in j and i != j:\n",
    "                df[i] += data_time[j]\n",
    "                n+=1\n",
    "#         print(n)\n",
    "#         print(data_time[i])\n",
    "        df[i] = df[i]/n"
   ]
  },
  {
   "cell_type": "code",
   "execution_count": 5,
   "metadata": {},
   "outputs": [],
   "source": [
    "def roll_mean(df, rolling_mean_size=5):\n",
    "    df2 = df.copy()\n",
    "    for i in tqdm_notebook(df2.index):\n",
    "        data_i = df2.loc[i]\n",
    "        index = data_i.index\n",
    "        data_i = pd.DataFrame(data_i)\n",
    "        data_i.columns = ['value']\n",
    "        data_i.index = pd.to_datetime(data_i.index)\n",
    "        data_i['roll_mean'] = data_i['value'].shift().rolling(rolling_mean_size).mean()\n",
    "        df2.loc[i] = data_i['roll_mean']\n",
    "    return df2"
   ]
  },
  {
   "cell_type": "code",
   "execution_count": 6,
   "metadata": {},
   "outputs": [],
   "source": [
    "def roll_std(df, rolling_std_size=3):\n",
    "    df2 = df.copy()\n",
    "    for i in tqdm_notebook(df2.index):\n",
    "        data_i = df2.loc[i]\n",
    "        index = data_i.index\n",
    "        data_i = pd.DataFrame(data_i)\n",
    "        data_i.columns = ['value']\n",
    "        data_i.index = pd.to_datetime(data_i.index)\n",
    "        data_i['roll_std'] = data_i['value'].shift().rolling(rolling_std_size).std()\n",
    "        df2.loc[i] = data_i['roll_std']\n",
    "    return df2"
   ]
  },
  {
   "cell_type": "code",
   "execution_count": 7,
   "metadata": {},
   "outputs": [],
   "source": [
    "def make_lag(df, lag=1):\n",
    "    df2 = df.copy()\n",
    "    for i in tqdm_notebook(df2.index):\n",
    "        data_i = df.loc[i]\n",
    "        index = data_i.index\n",
    "        data_i = pd.DataFrame(data_i)\n",
    "        data_i.columns = ['value']\n",
    "        data_i.index = pd.to_datetime(data_i.index)\n",
    "        data_i['lag'] = data_i['value'].shift(lag)\n",
    "        df2.loc[i] = data_i['lag']\n",
    "    return df2    "
   ]
  },
  {
   "cell_type": "code",
   "execution_count": 8,
   "metadata": {},
   "outputs": [],
   "source": [
    "def search_anomaly(series, offset=0.5, method='std', number_std=3, rolling_size=5):\n",
    "    data_i= series\n",
    "    data_i = pd.DataFrame(data_i)\n",
    "    data_i.index = pd.to_datetime(data_i.index)\n",
    "    if method=='std':\n",
    "        data_i.columns = ['value']\n",
    "        data_i.index = pd.to_datetime(data_i.index)\n",
    "        data_i['roll_mean'] = data_i['value'].shift().rolling(rolling_size).mean()\n",
    "        data_i['roll_std'] = data_i['value'].shift().rolling(rolling_size).std()\n",
    "        data_i['anomaly'] = (abs(data_i['value'] - data_i['roll_mean']) > (\n",
    "                           data_i['roll_std'] * number_std)\n",
    "                            )\n",
    "        return data_i[data_i['anomaly'] == 1].index\n",
    "    if method=='forest':\n",
    "        clf = IsolationForest(random_state=0).fit(data_i)\n",
    "        clf.offset_ = -offset\n",
    "        pred_anomaly = clf.predict(data_i)\n",
    "        data_i['anomaly'] = pred_anomaly\n",
    "        return data_i[data_i['anomaly'] == -1].index"
   ]
  },
  {
   "cell_type": "code",
   "execution_count": 9,
   "metadata": {},
   "outputs": [],
   "source": [
    "def replace_anomaly_mean(df, rolling_size=5, replace=False, number_std=3):\n",
    "    for i in tqdm_notebook(df.index):\n",
    "        df_2 = df.copy()\n",
    "        data_i= df_2.loc[i]\n",
    "        data_i = pd.DataFrame(data_i)\n",
    "        data_i.index = pd.to_datetime(data_i.index)\n",
    "\n",
    "        data_i.columns = ['value']\n",
    "        data_i.index = pd.to_datetime(data_i.index)\n",
    "        data_i['roll_mean'] = data_i['value'].shift().rolling(rolling_size).mean()\n",
    "        data_i['roll_std'] = data_i['value'].shift().rolling(rolling_size).std()\n",
    "        data_i['anomaly'] = (abs(data_i['value'] - data_i['roll_mean']) > (\n",
    "                               data_i['roll_std'] * number_std)\n",
    "                            )\n",
    "        if replace==True:\n",
    "            df_2.loc[i] = data_i['roll_mean']\n",
    "        else:\n",
    "            anom_ind = data_i[data_i['anomaly']==1].index\n",
    "            data_i.loc[anom_ind, 'value'] =data_i.loc[anom_ind, 'roll_mean']\n",
    "            df_2.loc[i] = data_i['value']\n",
    "    return df_2"
   ]
  },
  {
   "cell_type": "code",
   "execution_count": 10,
   "metadata": {},
   "outputs": [],
   "source": [
    "def coordinate(x):\n",
    "    try:\n",
    "        x = eval(x)['coordinates'][0][0]\n",
    "        #print(len(x))\n",
    "    except:\n",
    "        x = eval(x)['geometries'][0]['coordinates'][0]\n",
    "        #print(len(x))\n",
    "    if len(x) >2:\n",
    "\n",
    "        x = x[0]\n",
    "    return x\n"
   ]
  },
  {
   "cell_type": "code",
   "execution_count": 11,
   "metadata": {},
   "outputs": [],
   "source": [
    "def time_clean(df, method = 'arima', replace=False, order=(1, 1, 1), \n",
    "               anomaly=False, number_std=3, rolling_size=5):\n",
    "    \n",
    "    if method=='sarimax':\n",
    "        for i in tqdm_notebook(df.index):\n",
    "            data_i = df.loc[i]\n",
    "            index = data_i.index\n",
    "            # fit model\n",
    "            model=sm.tsa.statespace.SARIMAX(data_i,order=order)\n",
    "            yhat = model.fit(maxiter=250).predict(start='2021-04-15',end= 69)\n",
    "            yhat.index = index\n",
    "            #model_fit = model.fit()\n",
    "            if replace:\n",
    "    \n",
    "                df.loc[i] = yhat\n",
    "            else:\n",
    "                ind = data_i[data_i == 0].index\n",
    "                data_i[ind] = yhat[ind]\n",
    "                if anomaly:\n",
    "                    anomaly_index = search_anomaly(data_i, number_std=number_std, rolling_size=rolling_size)\n",
    "                    data_i[anomaly_index] = yhat[anomaly_index]\n",
    "                df.loc[i] = data_i\n",
    "        \n",
    "        \n",
    "        results=model.fit(maxiter=250)\n",
    "    \n",
    "    if method == 'smothing':\n",
    "        for i in tqdm_notebook(df.index):\n",
    "            data_i = df.loc[i]\n",
    "            index = data_i.index\n",
    "            # fit model\n",
    "            model = ExponentialSmoothing(data_i)\n",
    "            model_fit = model.fit()\n",
    "            yhat = model_fit.predict(1, len(data_i))\n",
    "            yhat.index = index\n",
    "            #model_fit = model.fit()\n",
    "            if replace:\n",
    "    \n",
    "                df.loc[i] = yhat\n",
    "            else:\n",
    "                ind = data_i[data_i == 0].index\n",
    "                data_i[ind] = yhat[ind]\n",
    "                anomaly_index = search_anomaly(data_i)\n",
    "                data_i[anomaly_index] = yhat[anomaly_index]\n",
    "                df.loc[i] = data_i \n",
    "    \n",
    "    if method == 'arima':\n",
    "        for i in tqdm_notebook(df.index):\n",
    "            data_i = df.loc[i]\n",
    "            index = data_i.index\n",
    "            # fit model\n",
    "            model = ARIMA(data_i, order=order)\n",
    "            yhat = model.fit().predict(1, len(data_i))\n",
    "            yhat.index = index\n",
    "            #model_fit = model.fit()\n",
    "            if replace:\n",
    "    \n",
    "                df.loc[i] = yhat\n",
    "            else:\n",
    "                ind = data_i[data_i == 0].index\n",
    "                data_i[ind] = yhat[ind]\n",
    "                if anomaly:\n",
    "                    anomaly_index = search_anomaly(data_i, number_std=number_std, rolling_size=rolling_size)\n",
    "                    anomaly_index = anomaly_index.strftime('%Y-%m-%d')\n",
    "                    data_i[anomaly_index] = yhat[anomaly_index]\n",
    "                df.loc[i] = data_i\n",
    "                \n",
    "    if method == 'prophet':\n",
    "        for i in tqdm_notebook(df.index):\n",
    "            data_i = df.loc[i]\n",
    "            index = data_i.index\n",
    "            data_i = pd.DataFrame(data_i).reset_index()\n",
    "            data_i.columns = ['ds', 'y']\n",
    "            m = Prophet()\n",
    "            m.fit(data_i)\n",
    "            forecast = m.predict(data_i)\n",
    "            yhat = forecast['yhat']\n",
    "            yhat.index = index\n",
    "            if replace:\n",
    "                df.loc[i] = yhat\n",
    "            else:\n",
    "                ind = data_i[data_i == 0].index\n",
    "                data_i[ind] = yhat[ind]\n",
    "                df.loc[i] = data_i\n",
    "    return df"
   ]
  },
  {
   "cell_type": "code",
   "execution_count": 12,
   "metadata": {},
   "outputs": [],
   "source": [
    "def arima_clean(df, order=(1, 1, 1), number_std=3, rolling_size=5, season=(0,0,0,0)):\n",
    "    df_1 = df.copy()\n",
    "    df_2 = df.copy()\n",
    "    total_aic = 0\n",
    "    for i in tqdm_notebook(df.index):\n",
    "        data_i = df.loc[i]\n",
    "        index = data_i.index\n",
    "        # fit model\n",
    "        model = ARIMA(data_i, order=order, seasonal_order=season)\n",
    "        model_fit = model.fit()\n",
    "        yhat = model_fit.predict(1, len(data_i))\n",
    "        yhat.index = index\n",
    "        #model_fit = model.fit()\n",
    "        df_1.loc[i] = yhat\n",
    "\n",
    "        #anomaly_index = search_anomaly(data_i, number_std=number_std, rolling_size=rolling_size)\n",
    "        #anomaly_index = anomaly_index.strftime('%Y-%m-%d')\n",
    "\n",
    "        ind = data_i[data_i == 0].index   \n",
    "        data_i[ind] = yhat[ind]\n",
    "        df_2.loc[i] = data_i\n",
    "#         df_3 = df_2.copy()\n",
    "        #data_i[anomaly_index] = yhat[anomaly_index]\n",
    "        #df_2.loc[i] = data_i\n",
    "        total_aic += model_fit.aic\n",
    "    return df_1, df_2, total_aic "
   ]
  },
  {
   "cell_type": "code",
   "execution_count": 13,
   "metadata": {},
   "outputs": [],
   "source": [
    "def arima_std(df):\n",
    "    df_1 = df.copy()\n",
    "    \n",
    "    \n",
    "    for i in tqdm_notebook(df.index):\n",
    "        data_i = df.loc[i]\n",
    "        index = data_i.index\n",
    "        scaler = RobustScaler()\n",
    "        # fit model\n",
    "        \n",
    "        yhat = scaler.fit_transform(data_i.values.reshape(-1, 1)).reshape(1, -1)[0]\n",
    "        #yhat.index = index\n",
    "\n",
    "        df_1.loc[i] = yhat\n",
    "    return df_1"
   ]
  },
  {
   "cell_type": "code",
   "execution_count": 14,
   "metadata": {},
   "outputs": [],
   "source": [
    "def resample_size(df, size):\n",
    "    df_1 = pd.DataFrame(data=[[0]*size], columns=list(range(0, size)))\n",
    "    \n",
    "    \n",
    "    for i in tqdm_notebook(df.index):\n",
    "        data_i = df.loc[i]\n",
    "\n",
    "        yhat = resample(data_i, size)\n",
    "        \n",
    "        df_1.loc[len(df_1.index)] = yhat\n",
    "        \n",
    "    return df_1.drop(0, axis=0).reset_index().drop('index', axis=1)"
   ]
  },
  {
   "cell_type": "code",
   "execution_count": 15,
   "metadata": {},
   "outputs": [],
   "source": [
    "def resample_median(df, size=20, time='W'):\n",
    "    df_1 = pd.DataFrame(data=[[0]*size], columns=list(range(0, size)))\n",
    "    \n",
    "    \n",
    "    for i in tqdm_notebook(df.index):\n",
    "        data_i = df.loc[i]\n",
    "        data_i = pd.DataFrame(data_i)\n",
    "        data_i.index = pd.to_datetime(data_i.index)\n",
    "\n",
    "        yhat = data_i.resample(time).median()\n",
    "       \n",
    "        df_1.columns = yhat.index\n",
    "        df_1.loc[len(df_1.index)] = yhat.values.reshape(1, -1)[0]\n",
    "        \n",
    "    return df_1.drop(0, axis=0)"
   ]
  },
  {
   "cell_type": "code",
   "execution_count": 16,
   "metadata": {},
   "outputs": [],
   "source": [
    "def boxcox_clean(df):\n",
    "    from scipy import stats\n",
    "    from scipy.special import inv_boxcox\n",
    "    df_1 = df.copy()\n",
    "    l_dicts = {}\n",
    "    \n",
    "    for i in tqdm_notebook(df.index):\n",
    "        data_i = df.loc[i]\n",
    "        index = data_i.index\n",
    "        #print(i)\n",
    "        #p = sm.tsa.stattools.adfuller(data_i)[1]\n",
    "        #if p > 0.05:\n",
    "        ts, l = stats.boxcox(data_i)\n",
    "        yhat = pd.Series(ts) \n",
    "        yhat.index = index\n",
    "        l_dicts[i] = l   \n",
    "        df_1.loc[i] = yhat\n",
    "\n",
    "    return df_1, l_dicts"
   ]
  },
  {
   "cell_type": "code",
   "execution_count": 17,
   "metadata": {},
   "outputs": [],
   "source": [
    "def boxcox_inv(df, d):\n",
    "    from scipy import stats\n",
    "    from scipy.special import inv_boxcox\n",
    "    df_1 = df.copy()\n",
    "    \n",
    "    \n",
    "    for i in tqdm_notebook(df.index):\n",
    "        data_i = df.loc[i]\n",
    "        index = data_i.index\n",
    "        #print(i)\n",
    "        #p = sm.tsa.stattools.adfuller(data_i)[1]\n",
    "        #if p > 0.05:\n",
    "        ts = inv_boxcox(data_i, d[i])\n",
    "        yhat = pd.Series(ts) \n",
    "        yhat.index = index\n",
    "        #l_dicts[i] = l   \n",
    "        df_1.loc[i] = yhat\n",
    "\n",
    "    return df_1"
   ]
  },
  {
   "cell_type": "code",
   "execution_count": 18,
   "metadata": {},
   "outputs": [],
   "source": [
    "def replace_mean(df, rolling_size=7, replace=False,center=False, number_std=3):\n",
    "    df_2 = df.copy()\n",
    "    for i in tqdm_notebook(df.index):\n",
    "        \n",
    "        data_i= df.loc[i]\n",
    "        data_i = pd.DataFrame(data_i)\n",
    "        data_i.index = pd.to_datetime(data_i.index)\n",
    "\n",
    "        data_i.columns = ['value']\n",
    "        data_i.index = pd.to_datetime(data_i.index)\n",
    "        data_i['roll_mean'] = data_i['value'].shift().rolling(rolling_size, center = center).mean()\n",
    "\n",
    "\n",
    "        \n",
    "        ind = data_i[data_i['value']==0.0001].index\n",
    "        \n",
    "       \n",
    "        data_i.loc[ind, 'value'] =data_i.loc[ind, 'roll_mean']\n",
    "\n",
    "        df_2.loc[i] = data_i['value'].fillna(0)\n",
    "        #ind = data_i[data_i['value']==0].index\n",
    "\n",
    "    return df_2"
   ]
  },
  {
   "cell_type": "code",
   "execution_count": 19,
   "metadata": {},
   "outputs": [],
   "source": [
    "\n",
    "def score_recall(df, y):\n",
    "    X_train, X_test, y_train, y_test = train_test_split(df, y, test_size=0.3, random_state=42)\n",
    "    clf = RandomForestClassifier(random_state=42, n_estimators = 300, n_jobs=-1)\n",
    "    clf.fit(X_train, y_train)\n",
    "    y_pred = clf.predict(X_test)\n",
    "    score = recall_score(y_test, y_pred, average=\"macro\", zero_division=0)\n",
    "    return score\n",
    "\n",
    "def furie(df):\n",
    "    df_1 = df.copy()\n",
    "    \n",
    "    \n",
    "    for i in tqdm_notebook(df.index):\n",
    "        data_i = df.loc[i]\n",
    "        index = data_i.index\n",
    "        # fit model\n",
    "        \n",
    "        yhat = np.abs(np.fft.fft(data_i))\n",
    "        #yhat.index = index\n",
    "        #model_fit = model.fit()\n",
    "        data_i = yhat\n",
    "        df_1.loc[i] = data_i\n",
    "\n",
    "        \n",
    "    return df_1.iloc[:, :36]\n",
    "\n",
    "\n",
    "def welch(df, size=36):\n",
    "    df_1 = df.iloc[:, :size].copy()\n",
    "    \n",
    "    \n",
    "    for i in tqdm_notebook(df.index):\n",
    "        data_i = df.loc[i]\n",
    "        index = data_i.index\n",
    "        # fit model\n",
    "        \n",
    "        y = scipy.signal.welch(data_i)\n",
    "        df_1.loc[i] = y[1]\n",
    "\n",
    "        \n",
    "    return df_1   "
   ]
  },
  {
   "cell_type": "code",
   "execution_count": 20,
   "metadata": {},
   "outputs": [],
   "source": [
    "def arima_drop_clean(df, order=(0, 1, 1), season=(0,0,0,0)):\n",
    "    df_1 = df.copy()\n",
    "    df_1[df_1 == 0] = np.nan\n",
    "    df_2 = df.copy()\n",
    "    for i in tqdm_notebook(df.index):\n",
    "        data_i = df_1.loc[i]\n",
    "        df_i = df.loc[i]\n",
    "        index = data_i.index\n",
    "        # fit model\n",
    "        model = ARIMA(data_i.dropna(), order=order, seasonal_order=season)\n",
    "        yhat = model.fit().predict(1, len(data_i))\n",
    "        yhat.index = index\n",
    "        \n",
    "        ind = df_i[df_i == 0].index   \n",
    "        data_i[ind] = yhat[ind]\n",
    "        \n",
    "        df_1.loc[i] = data_i\n",
    "        df_2.loc[i] = yhat\n",
    "\n",
    "    return df_1, df_2"
   ]
  },
  {
   "cell_type": "code",
   "execution_count": 21,
   "metadata": {},
   "outputs": [],
   "source": [
    "def soft_max(df):\n",
    "    df_1 = df.copy()\n",
    "    \n",
    "    for i in tqdm_notebook(df.index):\n",
    "        data_i = df_1.loc[i]\n",
    "        index = data_i.index\n",
    "        # fit model\n",
    "        \n",
    "        yhat = softmax(data_i)\n",
    "        yhat.index = index\n",
    "        df_1.loc[i] = yhat\n",
    "\n",
    "    return df_1"
   ]
  },
  {
   "cell_type": "code",
   "execution_count": 22,
   "metadata": {},
   "outputs": [],
   "source": [
    "def target_vectors(data, target): \n",
    "    df = data.copy()\n",
    "    df['target'] = target\n",
    "\n",
    "    target_0 = df[df['target']==0].median(axis=0)[:-1]\n",
    "\n",
    "    target_1 = df[df['target']==1].median(axis=0)[:-1]\n",
    "\n",
    "    target_2 = df[df['target']==2].median(axis=0)[:-1]\n",
    "\n",
    "    target_3 = df[df['target']==3].median(axis=0)[:-1]\n",
    "\n",
    "    target_4 = df[df['target']==4].median(axis=0)[:-1]\n",
    "\n",
    "    target_5 = df[df['target']==5].median(axis=0)[:-1]\n",
    "\n",
    "    target_6 = df[df['target']==6].median(axis=0)[:-1]\n",
    "\n",
    "    targets = [target_0, target_1, target_2, target_3, target_4, target_5, target_6]\n",
    "    return targets"
   ]
  },
  {
   "cell_type": "code",
   "execution_count": 23,
   "metadata": {},
   "outputs": [],
   "source": [
    "\n",
    "\n",
    "def random_init(SEED):\n",
    "    torch.backends.cudnn.deterministic = True\n",
    "    torch.manual_seed(SEED)\n",
    "    torch.cuda.manual_seed(SEED)\n",
    "    np.random.seed(SEED)\n",
    "    random.seed(SEED)\n",
    "    torch.backends.cudnn.enabled=False\n",
    "\n",
    "SEED = 1\n",
    "random_init(SEED)"
   ]
  },
  {
   "cell_type": "code",
   "execution_count": 24,
   "metadata": {},
   "outputs": [],
   "source": [
    "def feat_dist_target(df1, df_soft, targets, targets_soft, size=70): \n",
    "    df = df1.copy()\n",
    "    for i, target in tqdm_notebook(enumerate(targets)):\n",
    "        ###df[f'ccf{i}'] = df.iloc[:, :size].apply(lambda x: (sm.tsa.stattools.ccf(np.abs(x), np.abs(target))).max()/100, axis=1)\n",
    "        \n",
    "        df[f'canberra_{i}'] = df.iloc[:, :size].apply(lambda x: scipy.spatial.distance.canberra(x, target)/100, axis=1)\n",
    "               \n",
    "        #df[f'correlation_{i}'] = df.iloc[:, :size].apply(lambda x: scipy.spatial.distance.correlation(x, target)/100, axis=1)\n",
    "        \n",
    "        #df[f'cosine_{i}'] = df.iloc[:, :size].apply(lambda x: scipy.spatial.distance.cosine(x, target)/100, axis=1)\n",
    "        \n",
    "        #df[f'euclidean_{i}'] = df.iloc[:, :size].apply(lambda x: scipy.spatial.distance.euclidean(x, target)/100, axis=1)\n",
    "        \n",
    "        \n",
    "        #df[f'mean_sig_cor_{i}'] = df.iloc[:, :size].apply(lambda x: scipy.signal.correlate(x, target).mean()/100, axis=1)\n",
    "        \n",
    "        #df[f'kl_{i}'] = df_soft.iloc[:, :size].apply(lambda x: sum(rel_entr(x, targets_soft[i]))/100, axis=1)\n",
    "        \n",
    "    return df"
   ]
  },
  {
   "cell_type": "code",
   "execution_count": 25,
   "metadata": {},
   "outputs": [],
   "source": [
    "def feat_ex(data):    \n",
    "    \n",
    "    df = data.copy()\n",
    "#     df['mean'] = df.apply(lambda x: x.mean(), axis=1)\n",
    "#     df['median'] = df.apply(lambda x: x.median(), axis=1)\n",
    "#     df['std'] = df.apply(lambda x: x.std(), axis=1)\n",
    "#     df['max'] = df.apply(lambda x: x.max(), axis=1)\n",
    "#     df['min'] = df.apply(lambda x: x.min(), axis=1)\n",
    "#     df['maxmin_diff'] = (df['max'] - df['min'])\n",
    "    #df['abs_median'] = df.apply(lambda x: np.median(np.absolute(x - np.median(x))), axis=1)\n",
    "    #df['IQR'] = df.apply(lambda x: ((np.percentile(x, 75) - np.percentile(x, 25))), axis=1)\n",
    "    \n",
    "#     df['var'] = df.apply(lambda x: x.var(), axis=1)#\n",
    "#     df['cf'] = df.apply(lambda x: (np.max(np.abs(x))/np.sqrt(np.mean(x**2))), axis=1)#\n",
    "#     df['rms'] = df.apply(lambda x: np.sqrt(np.mean(x**2)), axis=1)#                   \n",
    "#     df['ptp'] = df.apply(lambda x: np.ptp(x), axis=1)#  \n",
    "#     df['p'] = df.apply(lambda x: np.mean(x**2), axis=1)#  \n",
    "#     df['pi'] = df.apply(lambda x: (np.sqrt(np.mean(x**2))/np.mean(x)), axis=1)#                    \n",
    "#     df['ff'] = df.apply(lambda x: (np.max(np.abs(x))/np.mean(x)), axis=1)#\n",
    "    \n",
    "                        \n",
    "#     df['peak_count'] = df.apply(lambda x: len(find_peaks(x)[0]), axis=1) \n",
    "#     df['skew'] = df.apply(lambda x: stats.skew(x), axis=1)\n",
    "#     df['kurtosis'] = df.apply(lambda x: stats.kurtosis(x), axis=1)\n",
    "#     df['sma'] = df.apply(lambda x: np.sum(abs(x)/len(x)), axis=1)\n",
    "                                            \n",
    "    return df"
   ]
  },
  {
   "cell_type": "code",
   "execution_count": 26,
   "metadata": {},
   "outputs": [],
   "source": [
    "def make_data_train():\n",
    "    df = pd.read_csv('train_dataset_train.csv')\n",
    "    df['coords'] = df['.geo'].apply(lambda x: coordinate(x))\n",
    "    df['longitude'] = df['coords'].apply(lambda x: round(x[1], 4))/1000\n",
    "    df['latitude'] = df['coords'].apply(lambda x: round(x[0], 4))/1000\n",
    "    df['area'] = df['area']/1000 \n",
    "    data = df.drop(['id', '.geo', 'coords'], axis=1)\n",
    "    \n",
    "    data.columns = ['area'] + [i.split('_')[-1] for i in data.columns[1:-3]]+['target', 'longitude', 'latitude']\n",
    "    data = data[sorted(data.columns)]\n",
    "    data_time = data.iloc[:, 0:-4]\n",
    "    return data, data_time\n",
    "\n",
    "def make_data_test():\n",
    "    df_test = pd.read_csv('test_dataset_test.csv')\n",
    "    df_test['coords'] = df_test['.geo'].apply(lambda x: coordinate(x))\n",
    "    df_test['longitude'] = df_test['coords'].apply(lambda x: round(x[1], 4))/1000\n",
    "    df_test['latitude'] = df_test['coords'].apply(lambda x: round(x[0], 4))/1000\n",
    "    df_test['area'] = df_test['area']/1000\n",
    "    \n",
    "    data_test = df_test.drop(['id', '.geo', 'coords'], axis=1)\n",
    "    data_test.columns = ['area'] + [i.split('_')[-1] for i in data_test.columns[1:-2]]+['longitude', 'latitude']\n",
    "    data_test = data_test[sorted(data_test.columns)]\n",
    "    data_time_test = data_test.iloc[:, 0:-3]\n",
    "    return data_test, data_time_test"
   ]
  },
  {
   "cell_type": "code",
   "execution_count": 27,
   "metadata": {},
   "outputs": [],
   "source": [
    "def make_full_data(dataset, ts_train):\n",
    "    data = dataset.copy()\n",
    "    df_furie = furie(ts_train)\n",
    "    df_welch = welch(ts_train)\n",
    "    ts_train_roll_8 = roll_mean(ts_train, 8)\n",
    "    ts_train_roll_8.dropna(axis=1, inplace=True)\n",
    "    data_exfeat = feat_ex(ts_train)\n",
    "    df_size40 = resample_size(ts_train, 40)\n",
    "    df_size60 = resample_size(ts_train, 60)\n",
    "    ts_train_roll_3 = roll_mean(ts_train, 3)\n",
    "    ts_train_roll_3.dropna(axis=1, inplace=True)\n",
    "\n",
    "    df_furie['median'] = df_furie.median(axis=1)/100\n",
    "    df_welch['median'] = df_welch.median(axis=1)/100\n",
    "    ts_train_roll_8['median'] = ts_train_roll_8.median(axis=1)\n",
    "    ts_train_roll_3['median'] = ts_train_roll_3.median(axis=1)\n",
    "    cols = data_exfeat.iloc[:, 70:].columns\n",
    "    df_size40['median'] = df_size40.median(axis=1)\n",
    "    df_size60['median'] = df_size60.median(axis=1)\n",
    "\n",
    "    data['median_f'] = df_furie['median']\n",
    "    data['median_w'] = df_welch['median']\n",
    "    data['median_roll_8'] = ts_train_roll_8['median']\n",
    "    \n",
    "    data['median_roll_3'] = ts_train_roll_3['median']\n",
    "    data['median_res_40'] = df_size40['median']\n",
    "    data['median_res_60'] = df_size60['median']\n",
    "    data[cols] = data_exfeat[cols]\n",
    "    \n",
    "    return data\n",
    "    \n"
   ]
  },
  {
   "cell_type": "code",
   "execution_count": 28,
   "metadata": {},
   "outputs": [],
   "source": [
    "def scored(y_test, y_pred):\n",
    "    score = recall_score(y_pred, y_test, average=\"macro\", zero_division=0)\n",
    "    score2 = precision_score(y_pred, y_test, average=\"macro\", zero_division=0)\n",
    "    print(f'recall {score} precision {score2}')\n",
    "    print(classification_report(y_pred, y_test))\n",
    "    print(confusion_matrix(y_pred, y_test))"
   ]
  },
  {
   "cell_type": "code",
   "execution_count": null,
   "metadata": {},
   "outputs": [],
   "source": []
  },
  {
   "cell_type": "code",
   "execution_count": null,
   "metadata": {},
   "outputs": [],
   "source": []
  },
  {
   "cell_type": "markdown",
   "metadata": {
    "id": "WcxAsO_Md05t"
   },
   "source": [
    "## Создадим тренировочный и тестовый датасет "
   ]
  },
  {
   "cell_type": "code",
   "execution_count": null,
   "metadata": {},
   "outputs": [],
   "source": []
  },
  {
   "cell_type": "code",
   "execution_count": 29,
   "metadata": {},
   "outputs": [
    {
     "data": {
      "application/vnd.jupyter.widget-view+json": {
       "model_id": "136f62a85b1a43d68fc69892cee0fb02",
       "version_major": 2,
       "version_minor": 0
      },
      "text/plain": [
       "  0%|          | 0/4830 [00:00<?, ?it/s]"
      ]
     },
     "metadata": {},
     "output_type": "display_data"
    },
    {
     "data": {
      "application/vnd.jupyter.widget-view+json": {
       "model_id": "1de3da4dd44e4eeda03da3ffb15d5d6e",
       "version_major": 2,
       "version_minor": 0
      },
      "text/plain": [
       "  0%|          | 0/4830 [00:00<?, ?it/s]"
      ]
     },
     "metadata": {},
     "output_type": "display_data"
    },
    {
     "data": {
      "application/vnd.jupyter.widget-view+json": {
       "model_id": "a9aae1ca287f4c4b811d546ea00193fd",
       "version_major": 2,
       "version_minor": 0
      },
      "text/plain": [
       "  0%|          | 0/4830 [00:00<?, ?it/s]"
      ]
     },
     "metadata": {},
     "output_type": "display_data"
    },
    {
     "data": {
      "application/vnd.jupyter.widget-view+json": {
       "model_id": "9d7339bc444547fca72516bb8d06b6d1",
       "version_major": 2,
       "version_minor": 0
      },
      "text/plain": [
       "  0%|          | 0/4830 [00:00<?, ?it/s]"
      ]
     },
     "metadata": {},
     "output_type": "display_data"
    },
    {
     "data": {
      "application/vnd.jupyter.widget-view+json": {
       "model_id": "c406bd320904454c960b93a516e78bad",
       "version_major": 2,
       "version_minor": 0
      },
      "text/plain": [
       "  0%|          | 0/4830 [00:00<?, ?it/s]"
      ]
     },
     "metadata": {},
     "output_type": "display_data"
    },
    {
     "data": {
      "application/vnd.jupyter.widget-view+json": {
       "model_id": "8591c01576034c08890a7f17bdf3df8f",
       "version_major": 2,
       "version_minor": 0
      },
      "text/plain": [
       "  0%|          | 0/4830 [00:00<?, ?it/s]"
      ]
     },
     "metadata": {},
     "output_type": "display_data"
    },
    {
     "data": {
      "application/vnd.jupyter.widget-view+json": {
       "model_id": "7b1021d82b604b4b854bc5dbeff2a693",
       "version_major": 2,
       "version_minor": 0
      },
      "text/plain": [
       "  0%|          | 0/2071 [00:00<?, ?it/s]"
      ]
     },
     "metadata": {},
     "output_type": "display_data"
    },
    {
     "data": {
      "application/vnd.jupyter.widget-view+json": {
       "model_id": "3ab8d368545940efb599adc797522195",
       "version_major": 2,
       "version_minor": 0
      },
      "text/plain": [
       "  0%|          | 0/2071 [00:00<?, ?it/s]"
      ]
     },
     "metadata": {},
     "output_type": "display_data"
    },
    {
     "data": {
      "application/vnd.jupyter.widget-view+json": {
       "model_id": "dda3e31bba524cd3a051a08e7a454d09",
       "version_major": 2,
       "version_minor": 0
      },
      "text/plain": [
       "  0%|          | 0/2071 [00:00<?, ?it/s]"
      ]
     },
     "metadata": {},
     "output_type": "display_data"
    },
    {
     "data": {
      "application/vnd.jupyter.widget-view+json": {
       "model_id": "4dc70cae7ee149efba937f8362657a98",
       "version_major": 2,
       "version_minor": 0
      },
      "text/plain": [
       "  0%|          | 0/2071 [00:00<?, ?it/s]"
      ]
     },
     "metadata": {},
     "output_type": "display_data"
    },
    {
     "data": {
      "application/vnd.jupyter.widget-view+json": {
       "model_id": "325357e28f3042e0a9bd696264e78436",
       "version_major": 2,
       "version_minor": 0
      },
      "text/plain": [
       "  0%|          | 0/2071 [00:00<?, ?it/s]"
      ]
     },
     "metadata": {},
     "output_type": "display_data"
    },
    {
     "data": {
      "application/vnd.jupyter.widget-view+json": {
       "model_id": "0df584ed177049ad930d009949d4973c",
       "version_major": 2,
       "version_minor": 0
      },
      "text/plain": [
       "  0%|          | 0/2071 [00:00<?, ?it/s]"
      ]
     },
     "metadata": {},
     "output_type": "display_data"
    }
   ],
   "source": [
    "df_train, ts_train = make_data_train()\n",
    "df_test, ts_test = make_data_test()\n",
    "\n",
    "full_data = make_full_data(df_train.drop('target', axis=1), ts_train)\n",
    "full_data_test = make_full_data(df_test, ts_test)"
   ]
  },
  {
   "cell_type": "code",
   "execution_count": null,
   "metadata": {},
   "outputs": [],
   "source": []
  },
  {
   "cell_type": "code",
   "execution_count": null,
   "metadata": {},
   "outputs": [],
   "source": []
  },
  {
   "cell_type": "code",
   "execution_count": 30,
   "metadata": {},
   "outputs": [
    {
     "name": "stdout",
     "output_type": "stream",
     "text": [
      "(381570, 2)\n"
     ]
    },
    {
     "name": "stderr",
     "output_type": "stream",
     "text": [
      "Feature Extraction: 100%|███████████████████████| 40/40 [00:19<00:00,  2.04it/s]\n"
     ]
    },
    {
     "name": "stdout",
     "output_type": "stream",
     "text": [
      "(4830, 783)\n",
      "(163609, 2)\n"
     ]
    },
    {
     "name": "stderr",
     "output_type": "stream",
     "text": [
      "Feature Extraction: 100%|███████████████████████| 40/40 [00:08<00:00,  4.71it/s]\n"
     ]
    },
    {
     "name": "stdout",
     "output_type": "stream",
     "text": [
      "(2071, 783)\n"
     ]
    }
   ],
   "source": [
    "data_long = pd.DataFrame({0: full_data.values.flatten(),\n",
    "                          1: np.arange(full_data.shape[0]).repeat(full_data.shape[1])})\n",
    "print(data_long.shape)\n",
    "settings_efficient = settings.EfficientFCParameters()\n",
    "\n",
    "ex_features = extract_features(data_long, column_id=1, impute_function=impute, \n",
    "                                               default_fc_parameters=settings_efficient)\n",
    "\n",
    "\n",
    "print(ex_features.shape)\n",
    "\n",
    "y = df_train['target']\n",
    "features = calculate_relevance_table(ex_features, y, ml_task='classification', multiclass=True, \n",
    "                                     n_significant=7, n_jobs =8)\n",
    "\n",
    "features[features['relevant'] == True]\n",
    "\n",
    "feats = list(features[features['relevant'] == True]['feature'])\n",
    "\n",
    "\n",
    "data_long = pd.DataFrame({0: full_data_test.values.flatten(),\n",
    "                          1: np.arange(full_data_test.shape[0]).repeat(full_data_test.shape[1])})\n",
    "print(data_long.shape)\n",
    "settings_efficient = settings.EfficientFCParameters()\n",
    "\n",
    "ex_features_test = extract_features(data_long, column_id=1, impute_function=impute, \n",
    "                                               default_fc_parameters=settings_efficient)\n",
    "\n",
    "\n",
    "print(ex_features_test.shape)"
   ]
  },
  {
   "cell_type": "code",
   "execution_count": 31,
   "metadata": {},
   "outputs": [],
   "source": [
    "ex_train_7 = full_data.join(ex_features[feats[:7]], how='left', rsuffix='_ex')\n",
    "ex_test_7 = full_data_test.join(ex_features_test[feats[:7]], how='left', rsuffix='_ex')\n",
    "cols = list(ex_train_7.columns)\n",
    "\n",
    "cols[-7:] = [f'coef_{i}' for i in range(1, 8)]\n",
    "ex_train_7.columns = cols\n",
    "ex_test_7.columns = cols"
   ]
  },
  {
   "cell_type": "code",
   "execution_count": 32,
   "metadata": {},
   "outputs": [],
   "source": [
    "ex_train_5 = full_data.join(ex_features[feats[:5]], how='left', rsuffix='_ex')\n",
    "ex_test_5 = full_data_test.join(ex_features_test[feats[:5]], how='left', rsuffix='_ex')\n",
    "cols = list(ex_train_5.columns)\n",
    "\n",
    "cols[-5:] = [f'coef_{i}' for i in range(1, 6)]\n",
    "ex_train_5.columns = cols\n",
    "ex_test_5.columns = cols"
   ]
  },
  {
   "cell_type": "markdown",
   "metadata": {},
   "source": [
    "## LightGBMClassifier"
   ]
  },
  {
   "cell_type": "code",
   "execution_count": 33,
   "metadata": {},
   "outputs": [],
   "source": [
    "\n",
    "# cl = lgbm.LGBMClassifier(objective='recall', random_state=42, n_estimators=270, \n",
    "#                              n_jobs=-1, class_weight={0:10,1:1, 2:1, 3:1, 4:1, 5:1, 6:1})\n",
    "\n",
    "\n",
    "    "
   ]
  },
  {
   "cell_type": "code",
   "execution_count": 34,
   "metadata": {},
   "outputs": [],
   "source": [
    "filename = 'sample_solution.csv'\n",
    "df_predictions = pd.read_csv(filename).drop('crop', axis=1)\n"
   ]
  },
  {
   "cell_type": "code",
   "execution_count": 35,
   "metadata": {},
   "outputs": [],
   "source": [
    "y = df_train['target']"
   ]
  },
  {
   "cell_type": "code",
   "execution_count": 36,
   "metadata": {},
   "outputs": [],
   "source": [
    "X = ex_train_7\n",
    "\n",
    "cl = lgbm.LGBMClassifier(objective='recall', random_state=42, \n",
    "                         n_estimators=270, n_jobs=-1, class_weight={0:10,1:1, 2:1, 3:1, 4:1, 5:1, 6:1})\n",
    "cl.fit(X, y)\n",
    "y_pred = cl.predict(ex_test_7)\n",
    "df_predictions['lgbm_1'] = y_pred"
   ]
  },
  {
   "cell_type": "code",
   "execution_count": 37,
   "metadata": {},
   "outputs": [],
   "source": [
    "X = df_train.drop('target', axis=1)\n",
    "\n",
    "cl = lgbm.LGBMClassifier(objective='recall', random_state=42, \n",
    "                         n_estimators=270, n_jobs=-1, class_weight={0:10,1:1, 2:1, 3:1, 4:1, 5:1, 6:1})\n",
    "cl.fit(X, y)\n",
    "y_pred = cl.predict(df_test)\n",
    "df_predictions['lgbm_2'] = y_pred"
   ]
  },
  {
   "cell_type": "code",
   "execution_count": 38,
   "metadata": {},
   "outputs": [],
   "source": [
    "X = ex_train_5\n",
    "\n",
    "cl = lgbm.LGBMClassifier(objective='recall', random_state=42, \n",
    "                         n_estimators=270, n_jobs=-1, class_weight={0:10,1:1, 2:1, 3:1, 4:1, 5:1, 6:1})\n",
    "cl.fit(X, y)\n",
    "y_pred = cl.predict(ex_test_5)\n",
    "df_predictions['lgbm_3'] = y_pred"
   ]
  },
  {
   "cell_type": "code",
   "execution_count": 39,
   "metadata": {},
   "outputs": [],
   "source": [
    "X = full_data\n",
    "\n",
    "cl = lgbm.LGBMClassifier(objective='recall', random_state=42, \n",
    "                         n_estimators=270, n_jobs=-1, class_weight={0:10,1:1, 2:1, 3:1, 4:1, 5:1, 6:1})\n",
    "cl.fit(X, y)\n",
    "y_pred = cl.predict(full_data_test)\n",
    "df_predictions['lgbm_4'] = y_pred"
   ]
  },
  {
   "cell_type": "code",
   "execution_count": 40,
   "metadata": {},
   "outputs": [],
   "source": [
    "\n",
    "#df_predictions['lgbm_ts'] = y_pred\n",
    "\n",
    "\n",
    "\n",
    "# filename = 'sample_solution.csv'\n",
    "\n",
    "# submission = pd.read_csv(filename)\n",
    "\n",
    "#df_predictions['t'] = df_predictions.apply(lambda x: int(x.value_counts().index[0]), axis=1)\n",
    "#df_predictions\n",
    "\n",
    "#submission['crop'] = y_pred\n",
    "#submission.to_csv('./my_submission.csv', index=False)"
   ]
  },
  {
   "cell_type": "code",
   "execution_count": 41,
   "metadata": {},
   "outputs": [
    {
     "data": {
      "text/html": [
       "<div>\n",
       "<style scoped>\n",
       "    .dataframe tbody tr th:only-of-type {\n",
       "        vertical-align: middle;\n",
       "    }\n",
       "\n",
       "    .dataframe tbody tr th {\n",
       "        vertical-align: top;\n",
       "    }\n",
       "\n",
       "    .dataframe thead th {\n",
       "        text-align: right;\n",
       "    }\n",
       "</style>\n",
       "<table border=\"1\" class=\"dataframe\">\n",
       "  <thead>\n",
       "    <tr style=\"text-align: right;\">\n",
       "      <th></th>\n",
       "      <th>id</th>\n",
       "      <th>lgbm_1</th>\n",
       "      <th>lgbm_2</th>\n",
       "      <th>lgbm_3</th>\n",
       "      <th>lgbm_4</th>\n",
       "    </tr>\n",
       "  </thead>\n",
       "  <tbody>\n",
       "    <tr>\n",
       "      <th>0</th>\n",
       "      <td>611</td>\n",
       "      <td>3</td>\n",
       "      <td>3</td>\n",
       "      <td>3</td>\n",
       "      <td>3</td>\n",
       "    </tr>\n",
       "    <tr>\n",
       "      <th>1</th>\n",
       "      <td>6417</td>\n",
       "      <td>2</td>\n",
       "      <td>2</td>\n",
       "      <td>2</td>\n",
       "      <td>2</td>\n",
       "    </tr>\n",
       "    <tr>\n",
       "      <th>2</th>\n",
       "      <td>3352</td>\n",
       "      <td>3</td>\n",
       "      <td>3</td>\n",
       "      <td>3</td>\n",
       "      <td>3</td>\n",
       "    </tr>\n",
       "    <tr>\n",
       "      <th>3</th>\n",
       "      <td>4224</td>\n",
       "      <td>1</td>\n",
       "      <td>1</td>\n",
       "      <td>1</td>\n",
       "      <td>1</td>\n",
       "    </tr>\n",
       "    <tr>\n",
       "      <th>4</th>\n",
       "      <td>3102</td>\n",
       "      <td>6</td>\n",
       "      <td>6</td>\n",
       "      <td>6</td>\n",
       "      <td>6</td>\n",
       "    </tr>\n",
       "    <tr>\n",
       "      <th>...</th>\n",
       "      <td>...</td>\n",
       "      <td>...</td>\n",
       "      <td>...</td>\n",
       "      <td>...</td>\n",
       "      <td>...</td>\n",
       "    </tr>\n",
       "    <tr>\n",
       "      <th>2066</th>\n",
       "      <td>1743</td>\n",
       "      <td>5</td>\n",
       "      <td>5</td>\n",
       "      <td>5</td>\n",
       "      <td>5</td>\n",
       "    </tr>\n",
       "    <tr>\n",
       "      <th>2067</th>\n",
       "      <td>3968</td>\n",
       "      <td>3</td>\n",
       "      <td>3</td>\n",
       "      <td>3</td>\n",
       "      <td>3</td>\n",
       "    </tr>\n",
       "    <tr>\n",
       "      <th>2068</th>\n",
       "      <td>3809</td>\n",
       "      <td>2</td>\n",
       "      <td>2</td>\n",
       "      <td>2</td>\n",
       "      <td>2</td>\n",
       "    </tr>\n",
       "    <tr>\n",
       "      <th>2069</th>\n",
       "      <td>5485</td>\n",
       "      <td>6</td>\n",
       "      <td>6</td>\n",
       "      <td>6</td>\n",
       "      <td>6</td>\n",
       "    </tr>\n",
       "    <tr>\n",
       "      <th>2070</th>\n",
       "      <td>5899</td>\n",
       "      <td>0</td>\n",
       "      <td>0</td>\n",
       "      <td>0</td>\n",
       "      <td>0</td>\n",
       "    </tr>\n",
       "  </tbody>\n",
       "</table>\n",
       "<p>2071 rows × 5 columns</p>\n",
       "</div>"
      ],
      "text/plain": [
       "        id  lgbm_1  lgbm_2  lgbm_3  lgbm_4\n",
       "0      611       3       3       3       3\n",
       "1     6417       2       2       2       2\n",
       "2     3352       3       3       3       3\n",
       "3     4224       1       1       1       1\n",
       "4     3102       6       6       6       6\n",
       "...    ...     ...     ...     ...     ...\n",
       "2066  1743       5       5       5       5\n",
       "2067  3968       3       3       3       3\n",
       "2068  3809       2       2       2       2\n",
       "2069  5485       6       6       6       6\n",
       "2070  5899       0       0       0       0\n",
       "\n",
       "[2071 rows x 5 columns]"
      ]
     },
     "execution_count": 41,
     "metadata": {},
     "output_type": "execute_result"
    }
   ],
   "source": [
    "df_predictions"
   ]
  },
  {
   "cell_type": "code",
   "execution_count": null,
   "metadata": {},
   "outputs": [],
   "source": []
  },
  {
   "cell_type": "code",
   "execution_count": 42,
   "metadata": {},
   "outputs": [],
   "source": [
    "from torch.utils.data.sampler import Sampler\n",
    "from torch.utils.data.sampler import BatchSampler\n",
    "\n",
    "class CustomSampler(Sampler):\n",
    "    def __init__(self, dataset, seed):\n",
    "        self.seed = seed\n",
    "        halfway_point = int(len(dataset))\n",
    "        self.lst = list(range(halfway_point))\n",
    "\n",
    "        \n",
    "    def __iter__(self):\n",
    "        random.seed(self.seed)\n",
    "        random.shuffle(self.lst)\n",
    "        \n",
    "        return iter(self.lst)\n",
    "    \n",
    "    def __len__(self):\n",
    "        return len(self.lst)\n",
    "    \n",
    "    \n"
   ]
  },
  {
   "cell_type": "code",
   "execution_count": 43,
   "metadata": {},
   "outputs": [],
   "source": [
    "\n",
    "\n",
    "class CustomBatchSampler(Sampler):\n",
    "    def __init__(self, dataset, batch_size, seed):\n",
    "        lenght = len(dataset)  \n",
    "        self.indices = list(range(lenght))\n",
    "        self.batch_size = batch_size\n",
    "        self.seed = seed\n",
    "    \n",
    "    def __iter__(self):\n",
    "        random.seed(self.seed)\n",
    "        random.shuffle(self.indices)\n",
    "        self.indices\n",
    "        \n",
    "       \n",
    "        batch_split = torch.split(torch.tensor(self.indices), self.batch_size)\n",
    "        \n",
    "        batches = [batch.tolist() for batch in list(batch_split)]\n",
    "        random.shuffle(batches)\n",
    "        return iter(batches)\n",
    "    \n",
    "    def __len__(self):\n",
    "        return len(indices) // self.batch_size"
   ]
  },
  {
   "cell_type": "code",
   "execution_count": 44,
   "metadata": {},
   "outputs": [],
   "source": [
    "def make_train_loader(X_train, y_train,   batch_size=64, \n",
    "                      input_shape=(-1, 1, 79, 79),  image=False, seed=SEED):\n",
    "    \n",
    "    \n",
    "    X_train = X_train.reshape(*input_shape)\n",
    "    #print(X_train.shape)\n",
    "    X_tensor = torch.tensor(X_train.astype(np.float32))\n",
    "    #if image:\n",
    "    #    X_tensor = X_tensor/255\n",
    "    \n",
    "    y_tensor = torch.tensor(y_train.astype(np.long))       \n",
    "    dataset = TensorDataset(X_tensor, y_tensor)\n",
    "    sampler= CustomSampler(dataset, seed=seed)\n",
    "    batch_sampler2 = BatchSampler(sampler=sampler, batch_size=batch_size, drop_last=False)\n",
    "    loader = DataLoader(dataset, batch_sampler=batch_sampler2)\n",
    "    return loader\n",
    "\n",
    "def make_test_loader(X_test, y_test=None, method='train', input_shape=(-1, 1, 79, 79), \n",
    "                                     batch_size=64, image=True, seed=SEED):\n",
    "    \n",
    "    X_test = X_test.reshape(*input_shape)\n",
    "    #print(X_test.shape)\n",
    "    X_tensor = torch.tensor(X_test.astype(np.float32))\n",
    "    #if image:\n",
    "    #    X_tensor = X_tensor/255\n",
    "    if method == 'train':\n",
    "        y_tensor = torch.tensor(y_test.astype(np.long)) \n",
    "    else:\n",
    "        y_tensor = torch.zeros(len(X_test), dtype=torch.long)\n",
    "\n",
    "    dataset = TensorDataset(X_tensor, y_tensor)\n",
    "    \n",
    "    loader = DataLoader(dataset, batch_size=batch_size, shuffle=False, drop_last=False)\n",
    "    return loader"
   ]
  },
  {
   "cell_type": "code",
   "execution_count": 45,
   "metadata": {},
   "outputs": [],
   "source": [
    "def make_binary_target(target, label):\n",
    "    bin_target = target.apply(lambda x: 1 if x == label else 0)\n",
    "    return bin_target"
   ]
  },
  {
   "cell_type": "code",
   "execution_count": 46,
   "metadata": {},
   "outputs": [],
   "source": [
    "def train(model, train_loader,optimizer, scheduler,  epochs=30, loss_function=nn.CrossEntropyLoss(),\n",
    "         batch_size = 64):   \n",
    "    \n",
    "    random_init(SEED)\n",
    "    \n",
    "    device = torch.device(\"cuda:0\" if torch.cuda.is_available() else \"cpu\")\n",
    "    model = model.to(device)\n",
    "\n",
    "    #losses = []\n",
    "    batches = len(train_loader)\n",
    "    \n",
    "\n",
    "    for epoch in range(epochs):\n",
    "        total_loss = 0\n",
    "        progress = tqdm(enumerate(train_loader), desc=\"Loss: \", total=batches)\n",
    "        model.train()\n",
    "        for i, batch_35  in progress:\n",
    "            optimizer.zero_grad()\n",
    "            inputs_img, target_img = batch_35\n",
    "            inputs_img = inputs_img.to(device)\n",
    "            target_img = target_img.to(device)\n",
    "            pred = model(inputs_img)\n",
    "            #target_img = target_img.unsqueeze(1)  # add binary\n",
    "            loss = loss_function(pred, target_img) #.float()\n",
    "            loss.backward()\n",
    "            optimizer.step()\n",
    "            current_loss = loss.item()\n",
    "            total_loss += current_loss\n",
    "            progress.set_description(\"Loss: {:.4f}\".format(total_loss/(i+1)))\n",
    "        scheduler.step()\n",
    "        print(f\"Epoch {epoch+1}/{epochs}, training loss: {total_loss/batches}\")\n",
    "        if torch.cuda.is_available():\n",
    "            torch.cuda.empty_cache()\n",
    "    return model\n",
    "\n",
    "def predict_proba(model, val_loader, y=None):\n",
    "    device = torch.device(\"cuda:0\" if torch.cuda.is_available() else \"cpu\")\n",
    "    model.eval()\n",
    "    predictions = []\n",
    "    \n",
    "    with torch.no_grad():\n",
    " \n",
    "        for i, batch_image   in enumerate(val_loader):\n",
    "                          \n",
    "            inputs_img, target_img = batch_image\n",
    "            inputs_img = inputs_img.to(device)\n",
    "            target_img = target_img.to(device)        \n",
    "            outputs = model.to(device)(inputs_img)\n",
    "            predictions.append(outputs.detach().cpu().numpy())\n",
    "            \n",
    "\n",
    "    predictions = np.concatenate(predictions)\n",
    "    return predictions\n",
    "\n",
    "def predict(model, val_loader, y=None):\n",
    "    predictions = predict_proba(model, val_loader, y) \n",
    "    predictions = predictions.argmax(axis=1)\n",
    "    return predictions"
   ]
  },
  {
   "cell_type": "code",
   "execution_count": 47,
   "metadata": {},
   "outputs": [],
   "source": [
    "images = df_train.drop('target', axis=1)\n"
   ]
  },
  {
   "cell_type": "code",
   "execution_count": 48,
   "metadata": {},
   "outputs": [
    {
     "data": {
      "application/vnd.jupyter.widget-view+json": {
       "model_id": "4390922ce64a4df7894919c07f9ab43b",
       "version_major": 2,
       "version_minor": 0
      },
      "text/plain": [
       "  0%|          | 0/4830 [00:00<?, ?it/s]"
      ]
     },
     "metadata": {},
     "output_type": "display_data"
    },
    {
     "data": {
      "application/vnd.jupyter.widget-view+json": {
       "model_id": "8c499e76010941158480ea866b61528a",
       "version_major": 2,
       "version_minor": 0
      },
      "text/plain": [
       "  0%|          | 0/2071 [00:00<?, ?it/s]"
      ]
     },
     "metadata": {},
     "output_type": "display_data"
    }
   ],
   "source": [
    "train_images = create_image_dataset(images)\n",
    "test_images = create_image_dataset(df_test)"
   ]
  },
  {
   "cell_type": "code",
   "execution_count": 49,
   "metadata": {},
   "outputs": [
    {
     "data": {
      "text/plain": [
       "<matplotlib.image.AxesImage at 0x7ff0ec36c640>"
      ]
     },
     "execution_count": 49,
     "metadata": {},
     "output_type": "execute_result"
    },
    {
     "data": {
      "image/png": "[encoded data removed]",
      "text/plain": [
       "<Figure size 640x480 with 1 Axes>"
      ]
     },
     "metadata": {},
     "output_type": "display_data"
    }
   ],
   "source": [
    "plt.imshow(train_images[100])"
   ]
  },
  {
   "cell_type": "code",
   "execution_count": 50,
   "metadata": {},
   "outputs": [
    {
     "data": {
      "text/plain": [
       "<matplotlib.image.AxesImage at 0x7ff0d26119c0>"
      ]
     },
     "execution_count": 50,
     "metadata": {},
     "output_type": "execute_result"
    },
    {
     "data": {
      "image/png": "[encoded data removed]",
      "text/plain": [
       "<Figure size 640x480 with 1 Axes>"
      ]
     },
     "metadata": {},
     "output_type": "display_data"
    }
   ],
   "source": [
    "plt.imshow(test_images[100])"
   ]
  },
  {
   "cell_type": "markdown",
   "metadata": {},
   "source": [
    "## ResNet 18"
   ]
  },
  {
   "cell_type": "code",
   "execution_count": 51,
   "metadata": {},
   "outputs": [],
   "source": [
    "class ModelResnet(nn.Module):\n",
    "    def __init__(self, resnet):\n",
    "        super(ModelResnet, self).__init__()\n",
    "        self.resnet = resnet\n",
    "        #self.fc1 = nn.Linear(128, 700)\n",
    "        #self.fc2 = nn.Linear(700, 70)\n",
    "        self.classifier = nn.Linear(128, 7)\n",
    "        #self.classifier = nn.Linear(1536, 7)\n",
    "        \n",
    "    def forward(self, x):\n",
    "        x = self.resnet(x)\n",
    "        x = x.view(-1, x.shape[1] * x.shape[2] *x.shape[3])\n",
    "        #x = F.relu(self.fc1(x))\n",
    "        \n",
    "        x = self.classifier(x)\n",
    "        return x"
   ]
  },
  {
   "cell_type": "code",
   "execution_count": 54,
   "metadata": {
    "scrolled": true
   },
   "outputs": [
    {
     "data": {
      "application/vnd.jupyter.widget-view+json": {
       "model_id": "d0b4bb0b3c70499e8b66daecd33433d5",
       "version_major": 2,
       "version_minor": 0
      },
      "text/plain": [
       "Loss:   0%|          | 0/151 [00:00<?, ?it/s]"
      ]
     },
     "metadata": {},
     "output_type": "display_data"
    },
    {
     "name": "stdout",
     "output_type": "stream",
     "text": [
      "Epoch 1/220, training loss: 0.517968548992217\n"
     ]
    },
    {
     "data": {
      "application/vnd.jupyter.widget-view+json": {
       "model_id": "42b82405c5c84e039d196dff70b299eb",
       "version_major": 2,
       "version_minor": 0
      },
      "text/plain": [
       "Loss:   0%|          | 0/151 [00:00<?, ?it/s]"
      ]
     },
     "metadata": {},
     "output_type": "display_data"
    },
    {
     "name": "stdout",
     "output_type": "stream",
     "text": [
      "Epoch 2/220, training loss: 0.2545812307604101\n"
     ]
    },
    {
     "data": {
      "application/vnd.jupyter.widget-view+json": {
       "model_id": "640453d82fcd47b2927afbc3dcabb222",
       "version_major": 2,
       "version_minor": 0
      },
      "text/plain": [
       "Loss:   0%|          | 0/151 [00:00<?, ?it/s]"
      ]
     },
     "metadata": {},
     "output_type": "display_data"
    },
    {
     "name": "stdout",
     "output_type": "stream",
     "text": [
      "Epoch 3/220, training loss: 0.2103726477516408\n"
     ]
    },
    {
     "data": {
      "application/vnd.jupyter.widget-view+json": {
       "model_id": "6e79389d832f4ecbb7d0a47c8cd06883",
       "version_major": 2,
       "version_minor": 0
      },
      "text/plain": [
       "Loss:   0%|          | 0/151 [00:00<?, ?it/s]"
      ]
     },
     "metadata": {},
     "output_type": "display_data"
    },
    {
     "name": "stdout",
     "output_type": "stream",
     "text": [
      "Epoch 4/220, training loss: 0.1745238658410824\n"
     ]
    },
    {
     "data": {
      "application/vnd.jupyter.widget-view+json": {
       "model_id": "1334084158e14342afc23ab16782de40",
       "version_major": 2,
       "version_minor": 0
      },
      "text/plain": [
       "Loss:   0%|          | 0/151 [00:00<?, ?it/s]"
      ]
     },
     "metadata": {},
     "output_type": "display_data"
    },
    {
     "name": "stdout",
     "output_type": "stream",
     "text": [
      "Epoch 5/220, training loss: 0.16209071788270743\n"
     ]
    },
    {
     "data": {
      "application/vnd.jupyter.widget-view+json": {
       "model_id": "715722d3303042a0bf3676b6c751c1e4",
       "version_major": 2,
       "version_minor": 0
      },
      "text/plain": [
       "Loss:   0%|          | 0/151 [00:00<?, ?it/s]"
      ]
     },
     "metadata": {},
     "output_type": "display_data"
    },
    {
     "name": "stdout",
     "output_type": "stream",
     "text": [
      "Epoch 6/220, training loss: 0.13514227234443885\n"
     ]
    },
    {
     "data": {
      "application/vnd.jupyter.widget-view+json": {
       "model_id": "df006c8921a5483d8c27ee3e93481192",
       "version_major": 2,
       "version_minor": 0
      },
      "text/plain": [
       "Loss:   0%|          | 0/151 [00:00<?, ?it/s]"
      ]
     },
     "metadata": {},
     "output_type": "display_data"
    },
    {
     "name": "stdout",
     "output_type": "stream",
     "text": [
      "Epoch 7/220, training loss: 0.13523860407734153\n"
     ]
    },
    {
     "data": {
      "application/vnd.jupyter.widget-view+json": {
       "model_id": "4a9fc53918aa4f60b31c72f0f252312b",
       "version_major": 2,
       "version_minor": 0
      },
      "text/plain": [
       "Loss:   0%|          | 0/151 [00:00<?, ?it/s]"
      ]
     },
     "metadata": {},
     "output_type": "display_data"
    },
    {
     "name": "stdout",
     "output_type": "stream",
     "text": [
      "Epoch 8/220, training loss: 0.11313600394726786\n"
     ]
    },
    {
     "data": {
      "application/vnd.jupyter.widget-view+json": {
       "model_id": "5de0ea59fc3f4cf89a10856a792b8854",
       "version_major": 2,
       "version_minor": 0
      },
      "text/plain": [
       "Loss:   0%|          | 0/151 [00:00<?, ?it/s]"
      ]
     },
     "metadata": {},
     "output_type": "display_data"
    },
    {
     "name": "stdout",
     "output_type": "stream",
     "text": [
      "Epoch 9/220, training loss: 0.09438928605877603\n"
     ]
    },
    {
     "data": {
      "application/vnd.jupyter.widget-view+json": {
       "model_id": "cef5325a5d8d48758f14a436909219bf",
       "version_major": 2,
       "version_minor": 0
      },
      "text/plain": [
       "Loss:   0%|          | 0/151 [00:00<?, ?it/s]"
      ]
     },
     "metadata": {},
     "output_type": "display_data"
    },
    {
     "name": "stdout",
     "output_type": "stream",
     "text": [
      "Epoch 10/220, training loss: 0.09925039841589943\n"
     ]
    },
    {
     "data": {
      "application/vnd.jupyter.widget-view+json": {
       "model_id": "0697af47f7f54611a673ea0683ceea30",
       "version_major": 2,
       "version_minor": 0
      },
      "text/plain": [
       "Loss:   0%|          | 0/151 [00:00<?, ?it/s]"
      ]
     },
     "metadata": {},
     "output_type": "display_data"
    },
    {
     "name": "stdout",
     "output_type": "stream",
     "text": [
      "Epoch 11/220, training loss: 0.09262719263464508\n"
     ]
    },
    {
     "data": {
      "application/vnd.jupyter.widget-view+json": {
       "model_id": "1abfde09255c43d0bc87833a24b1a737",
       "version_major": 2,
       "version_minor": 0
      },
      "text/plain": [
       "Loss:   0%|          | 0/151 [00:00<?, ?it/s]"
      ]
     },
     "metadata": {},
     "output_type": "display_data"
    },
    {
     "name": "stdout",
     "output_type": "stream",
     "text": [
      "Epoch 12/220, training loss: 0.08201072446459176\n"
     ]
    },
    {
     "data": {
      "application/vnd.jupyter.widget-view+json": {
       "model_id": "2940008601874bd6b07192c5b0da0617",
       "version_major": 2,
       "version_minor": 0
      },
      "text/plain": [
       "Loss:   0%|          | 0/151 [00:00<?, ?it/s]"
      ]
     },
     "metadata": {},
     "output_type": "display_data"
    },
    {
     "name": "stdout",
     "output_type": "stream",
     "text": [
      "Epoch 13/220, training loss: 0.08053488304086079\n"
     ]
    },
    {
     "data": {
      "application/vnd.jupyter.widget-view+json": {
       "model_id": "5f90f03238fe4b00b42e63daba70636c",
       "version_major": 2,
       "version_minor": 0
      },
      "text/plain": [
       "Loss:   0%|          | 0/151 [00:00<?, ?it/s]"
      ]
     },
     "metadata": {},
     "output_type": "display_data"
    },
    {
     "name": "stdout",
     "output_type": "stream",
     "text": [
      "Epoch 14/220, training loss: 0.0783566404874159\n"
     ]
    },
    {
     "data": {
      "application/vnd.jupyter.widget-view+json": {
       "model_id": "25793cd1df874b20884be4cb184f19fc",
       "version_major": 2,
       "version_minor": 0
      },
      "text/plain": [
       "Loss:   0%|          | 0/151 [00:00<?, ?it/s]"
      ]
     },
     "metadata": {},
     "output_type": "display_data"
    },
    {
     "name": "stdout",
     "output_type": "stream",
     "text": [
      "Epoch 15/220, training loss: 0.05353387327099971\n"
     ]
    },
    {
     "data": {
      "application/vnd.jupyter.widget-view+json": {
       "model_id": "7412fb3f981b4a2f95e25249bc01b61d",
       "version_major": 2,
       "version_minor": 0
      },
      "text/plain": [
       "Loss:   0%|          | 0/151 [00:00<?, ?it/s]"
      ]
     },
     "metadata": {},
     "output_type": "display_data"
    },
    {
     "name": "stdout",
     "output_type": "stream",
     "text": [
      "Epoch 16/220, training loss: 0.055932895340555844\n"
     ]
    },
    {
     "data": {
      "application/vnd.jupyter.widget-view+json": {
       "model_id": "7c4b6821114d4e64ba48663863fd6bfe",
       "version_major": 2,
       "version_minor": 0
      },
      "text/plain": [
       "Loss:   0%|          | 0/151 [00:00<?, ?it/s]"
      ]
     },
     "metadata": {},
     "output_type": "display_data"
    },
    {
     "name": "stdout",
     "output_type": "stream",
     "text": [
      "Epoch 17/220, training loss: 0.05642506681900743\n"
     ]
    },
    {
     "data": {
      "application/vnd.jupyter.widget-view+json": {
       "model_id": "8fc240f8c1ce4618950a4b6da4ea20b4",
       "version_major": 2,
       "version_minor": 0
      },
      "text/plain": [
       "Loss:   0%|          | 0/151 [00:00<?, ?it/s]"
      ]
     },
     "metadata": {},
     "output_type": "display_data"
    },
    {
     "name": "stdout",
     "output_type": "stream",
     "text": [
      "Epoch 18/220, training loss: 0.05410773346558312\n"
     ]
    },
    {
     "data": {
      "application/vnd.jupyter.widget-view+json": {
       "model_id": "0ea35cf957714ac4a1f90b04438e66a2",
       "version_major": 2,
       "version_minor": 0
      },
      "text/plain": [
       "Loss:   0%|          | 0/151 [00:00<?, ?it/s]"
      ]
     },
     "metadata": {},
     "output_type": "display_data"
    },
    {
     "name": "stdout",
     "output_type": "stream",
     "text": [
      "Epoch 19/220, training loss: 0.045701399443991826\n"
     ]
    },
    {
     "data": {
      "application/vnd.jupyter.widget-view+json": {
       "model_id": "1d3db84d67a446e89af8b9436b1044d9",
       "version_major": 2,
       "version_minor": 0
      },
      "text/plain": [
       "Loss:   0%|          | 0/151 [00:00<?, ?it/s]"
      ]
     },
     "metadata": {},
     "output_type": "display_data"
    },
    {
     "name": "stdout",
     "output_type": "stream",
     "text": [
      "Epoch 20/220, training loss: 0.05015251422856028\n"
     ]
    },
    {
     "data": {
      "application/vnd.jupyter.widget-view+json": {
       "model_id": "9b91e7d099344ee999c09ce6d12c99f4",
       "version_major": 2,
       "version_minor": 0
      },
      "text/plain": [
       "Loss:   0%|          | 0/151 [00:00<?, ?it/s]"
      ]
     },
     "metadata": {},
     "output_type": "display_data"
    },
    {
     "name": "stdout",
     "output_type": "stream",
     "text": [
      "Epoch 21/220, training loss: 0.03871474703712179\n"
     ]
    },
    {
     "data": {
      "application/vnd.jupyter.widget-view+json": {
       "model_id": "9d65819c758a4018aa6ee300584de4ff",
       "version_major": 2,
       "version_minor": 0
      },
      "text/plain": [
       "Loss:   0%|          | 0/151 [00:00<?, ?it/s]"
      ]
     },
     "metadata": {},
     "output_type": "display_data"
    },
    {
     "name": "stdout",
     "output_type": "stream",
     "text": [
      "Epoch 22/220, training loss: 0.04714548003409576\n"
     ]
    },
    {
     "data": {
      "application/vnd.jupyter.widget-view+json": {
       "model_id": "e01093a76707481d9592a700aef255f0",
       "version_major": 2,
       "version_minor": 0
      },
      "text/plain": [
       "Loss:   0%|          | 0/151 [00:00<?, ?it/s]"
      ]
     },
     "metadata": {},
     "output_type": "display_data"
    },
    {
     "name": "stdout",
     "output_type": "stream",
     "text": [
      "Epoch 23/220, training loss: 0.03367031619125447\n"
     ]
    },
    {
     "data": {
      "application/vnd.jupyter.widget-view+json": {
       "model_id": "f1631f4b0fee40a7a3b940486efb15ae",
       "version_major": 2,
       "version_minor": 0
      },
      "text/plain": [
       "Loss:   0%|          | 0/151 [00:00<?, ?it/s]"
      ]
     },
     "metadata": {},
     "output_type": "display_data"
    },
    {
     "name": "stdout",
     "output_type": "stream",
     "text": [
      "Epoch 24/220, training loss: 0.029326669217260026\n"
     ]
    },
    {
     "data": {
      "application/vnd.jupyter.widget-view+json": {
       "model_id": "fc45a28f5fec4a73a90075739fafa879",
       "version_major": 2,
       "version_minor": 0
      },
      "text/plain": [
       "Loss:   0%|          | 0/151 [00:00<?, ?it/s]"
      ]
     },
     "metadata": {},
     "output_type": "display_data"
    },
    {
     "name": "stdout",
     "output_type": "stream",
     "text": [
      "Epoch 25/220, training loss: 0.027233919376254526\n"
     ]
    },
    {
     "data": {
      "application/vnd.jupyter.widget-view+json": {
       "model_id": "387bee13b5004918a6fcd6e8b5a390c3",
       "version_major": 2,
       "version_minor": 0
      },
      "text/plain": [
       "Loss:   0%|          | 0/151 [00:00<?, ?it/s]"
      ]
     },
     "metadata": {},
     "output_type": "display_data"
    },
    {
     "name": "stdout",
     "output_type": "stream",
     "text": [
      "Epoch 26/220, training loss: 0.02923669676768242\n"
     ]
    },
    {
     "data": {
      "application/vnd.jupyter.widget-view+json": {
       "model_id": "284f1dcdfa6c46389223d27663a4e178",
       "version_major": 2,
       "version_minor": 0
      },
      "text/plain": [
       "Loss:   0%|          | 0/151 [00:00<?, ?it/s]"
      ]
     },
     "metadata": {},
     "output_type": "display_data"
    },
    {
     "name": "stdout",
     "output_type": "stream",
     "text": [
      "Epoch 27/220, training loss: 0.023438674919708132\n"
     ]
    },
    {
     "data": {
      "application/vnd.jupyter.widget-view+json": {
       "model_id": "95df810b7fe34bf0a9363aa0e82d205c",
       "version_major": 2,
       "version_minor": 0
      },
      "text/plain": [
       "Loss:   0%|          | 0/151 [00:00<?, ?it/s]"
      ]
     },
     "metadata": {},
     "output_type": "display_data"
    },
    {
     "name": "stdout",
     "output_type": "stream",
     "text": [
      "Epoch 28/220, training loss: 0.024437662032864592\n"
     ]
    },
    {
     "data": {
      "application/vnd.jupyter.widget-view+json": {
       "model_id": "7edd797288ca4f5ca945eac96231ff79",
       "version_major": 2,
       "version_minor": 0
      },
      "text/plain": [
       "Loss:   0%|          | 0/151 [00:00<?, ?it/s]"
      ]
     },
     "metadata": {},
     "output_type": "display_data"
    },
    {
     "name": "stdout",
     "output_type": "stream",
     "text": [
      "Epoch 29/220, training loss: 0.023168269907963147\n"
     ]
    },
    {
     "data": {
      "application/vnd.jupyter.widget-view+json": {
       "model_id": "87eac4717f1c46398adfa6583f299a92",
       "version_major": 2,
       "version_minor": 0
      },
      "text/plain": [
       "Loss:   0%|          | 0/151 [00:00<?, ?it/s]"
      ]
     },
     "metadata": {},
     "output_type": "display_data"
    },
    {
     "name": "stdout",
     "output_type": "stream",
     "text": [
      "Epoch 30/220, training loss: 0.0214824229787221\n"
     ]
    },
    {
     "data": {
      "application/vnd.jupyter.widget-view+json": {
       "model_id": "8a42b6086d90415ea396b2e5404bb085",
       "version_major": 2,
       "version_minor": 0
      },
      "text/plain": [
       "Loss:   0%|          | 0/151 [00:00<?, ?it/s]"
      ]
     },
     "metadata": {},
     "output_type": "display_data"
    },
    {
     "name": "stdout",
     "output_type": "stream",
     "text": [
      "Epoch 31/220, training loss: 0.016163737816113164\n"
     ]
    },
    {
     "data": {
      "application/vnd.jupyter.widget-view+json": {
       "model_id": "7fc1ca53380240688867af21f5b57687",
       "version_major": 2,
       "version_minor": 0
      },
      "text/plain": [
       "Loss:   0%|          | 0/151 [00:00<?, ?it/s]"
      ]
     },
     "metadata": {},
     "output_type": "display_data"
    },
    {
     "name": "stdout",
     "output_type": "stream",
     "text": [
      "Epoch 32/220, training loss: 0.018425779145007447\n"
     ]
    },
    {
     "data": {
      "application/vnd.jupyter.widget-view+json": {
       "model_id": "851713a28d0d43bbabac6866041abdf6",
       "version_major": 2,
       "version_minor": 0
      },
      "text/plain": [
       "Loss:   0%|          | 0/151 [00:00<?, ?it/s]"
      ]
     },
     "metadata": {},
     "output_type": "display_data"
    },
    {
     "name": "stdout",
     "output_type": "stream",
     "text": [
      "Epoch 33/220, training loss: 0.015598989367818103\n"
     ]
    },
    {
     "data": {
      "application/vnd.jupyter.widget-view+json": {
       "model_id": "b7693f9caab442e78980f8dc07a57029",
       "version_major": 2,
       "version_minor": 0
      },
      "text/plain": [
       "Loss:   0%|          | 0/151 [00:00<?, ?it/s]"
      ]
     },
     "metadata": {},
     "output_type": "display_data"
    },
    {
     "name": "stdout",
     "output_type": "stream",
     "text": [
      "Epoch 34/220, training loss: 0.023881177702804547\n"
     ]
    },
    {
     "data": {
      "application/vnd.jupyter.widget-view+json": {
       "model_id": "d4c20ec5e7a04eaca60bc11909f44dd5",
       "version_major": 2,
       "version_minor": 0
      },
      "text/plain": [
       "Loss:   0%|          | 0/151 [00:00<?, ?it/s]"
      ]
     },
     "metadata": {},
     "output_type": "display_data"
    },
    {
     "name": "stdout",
     "output_type": "stream",
     "text": [
      "Epoch 35/220, training loss: 0.015470517532119761\n"
     ]
    },
    {
     "data": {
      "application/vnd.jupyter.widget-view+json": {
       "model_id": "8d4fd60bb21d4b59b6fb03702b3a14ac",
       "version_major": 2,
       "version_minor": 0
      },
      "text/plain": [
       "Loss:   0%|          | 0/151 [00:00<?, ?it/s]"
      ]
     },
     "metadata": {},
     "output_type": "display_data"
    },
    {
     "name": "stdout",
     "output_type": "stream",
     "text": [
      "Epoch 36/220, training loss: 0.01256875409043104\n"
     ]
    },
    {
     "data": {
      "application/vnd.jupyter.widget-view+json": {
       "model_id": "2a2b71916b8042fe9d21782c9bd7f9b3",
       "version_major": 2,
       "version_minor": 0
      },
      "text/plain": [
       "Loss:   0%|          | 0/151 [00:00<?, ?it/s]"
      ]
     },
     "metadata": {},
     "output_type": "display_data"
    },
    {
     "name": "stdout",
     "output_type": "stream",
     "text": [
      "Epoch 37/220, training loss: 0.008617197786147909\n"
     ]
    },
    {
     "data": {
      "application/vnd.jupyter.widget-view+json": {
       "model_id": "44c9ede70a3340189350b70748549fa8",
       "version_major": 2,
       "version_minor": 0
      },
      "text/plain": [
       "Loss:   0%|          | 0/151 [00:00<?, ?it/s]"
      ]
     },
     "metadata": {},
     "output_type": "display_data"
    },
    {
     "name": "stdout",
     "output_type": "stream",
     "text": [
      "Epoch 38/220, training loss: 0.010744395521076224\n"
     ]
    },
    {
     "data": {
      "application/vnd.jupyter.widget-view+json": {
       "model_id": "e369cd1978054064aed9429a7ec08d98",
       "version_major": 2,
       "version_minor": 0
      },
      "text/plain": [
       "Loss:   0%|          | 0/151 [00:00<?, ?it/s]"
      ]
     },
     "metadata": {},
     "output_type": "display_data"
    },
    {
     "name": "stdout",
     "output_type": "stream",
     "text": [
      "Epoch 39/220, training loss: 0.018157030403149924\n"
     ]
    },
    {
     "data": {
      "application/vnd.jupyter.widget-view+json": {
       "model_id": "4568cc6a9848495fa88c0d9fd776cac5",
       "version_major": 2,
       "version_minor": 0
      },
      "text/plain": [
       "Loss:   0%|          | 0/151 [00:00<?, ?it/s]"
      ]
     },
     "metadata": {},
     "output_type": "display_data"
    },
    {
     "name": "stdout",
     "output_type": "stream",
     "text": [
      "Epoch 40/220, training loss: 0.00927548410389449\n"
     ]
    },
    {
     "data": {
      "application/vnd.jupyter.widget-view+json": {
       "model_id": "5010bebeb4d64f00b1a42f7fead997fc",
       "version_major": 2,
       "version_minor": 0
      },
      "text/plain": [
       "Loss:   0%|          | 0/151 [00:00<?, ?it/s]"
      ]
     },
     "metadata": {},
     "output_type": "display_data"
    },
    {
     "name": "stdout",
     "output_type": "stream",
     "text": [
      "Epoch 41/220, training loss: 0.0068115224294281185\n"
     ]
    },
    {
     "data": {
      "application/vnd.jupyter.widget-view+json": {
       "model_id": "42f45b13b4f34df6889f977ad551a103",
       "version_major": 2,
       "version_minor": 0
      },
      "text/plain": [
       "Loss:   0%|          | 0/151 [00:00<?, ?it/s]"
      ]
     },
     "metadata": {},
     "output_type": "display_data"
    },
    {
     "name": "stdout",
     "output_type": "stream",
     "text": [
      "Epoch 42/220, training loss: 0.016768692283342216\n"
     ]
    },
    {
     "data": {
      "application/vnd.jupyter.widget-view+json": {
       "model_id": "8ae0ac0ed4744b929889be9b0827cc01",
       "version_major": 2,
       "version_minor": 0
      },
      "text/plain": [
       "Loss:   0%|          | 0/151 [00:00<?, ?it/s]"
      ]
     },
     "metadata": {},
     "output_type": "display_data"
    },
    {
     "name": "stdout",
     "output_type": "stream",
     "text": [
      "Epoch 43/220, training loss: 0.010575080583016974\n"
     ]
    },
    {
     "data": {
      "application/vnd.jupyter.widget-view+json": {
       "model_id": "0546d327eb2f42738a89f4b4765373ef",
       "version_major": 2,
       "version_minor": 0
      },
      "text/plain": [
       "Loss:   0%|          | 0/151 [00:00<?, ?it/s]"
      ]
     },
     "metadata": {},
     "output_type": "display_data"
    },
    {
     "name": "stdout",
     "output_type": "stream",
     "text": [
      "Epoch 44/220, training loss: 0.011700886647665675\n"
     ]
    },
    {
     "data": {
      "application/vnd.jupyter.widget-view+json": {
       "model_id": "87ec1955389a43e6954aa896eb172f8e",
       "version_major": 2,
       "version_minor": 0
      },
      "text/plain": [
       "Loss:   0%|          | 0/151 [00:00<?, ?it/s]"
      ]
     },
     "metadata": {},
     "output_type": "display_data"
    },
    {
     "name": "stdout",
     "output_type": "stream",
     "text": [
      "Epoch 45/220, training loss: 0.008515948722283942\n"
     ]
    },
    {
     "data": {
      "application/vnd.jupyter.widget-view+json": {
       "model_id": "cba09187ab6f4af880caf1795879d0ed",
       "version_major": 2,
       "version_minor": 0
      },
      "text/plain": [
       "Loss:   0%|          | 0/151 [00:00<?, ?it/s]"
      ]
     },
     "metadata": {},
     "output_type": "display_data"
    },
    {
     "name": "stdout",
     "output_type": "stream",
     "text": [
      "Epoch 46/220, training loss: 0.010042399461172977\n"
     ]
    },
    {
     "data": {
      "application/vnd.jupyter.widget-view+json": {
       "model_id": "cca3f4074b5943248bc7d0cde7877147",
       "version_major": 2,
       "version_minor": 0
      },
      "text/plain": [
       "Loss:   0%|          | 0/151 [00:00<?, ?it/s]"
      ]
     },
     "metadata": {},
     "output_type": "display_data"
    },
    {
     "name": "stdout",
     "output_type": "stream",
     "text": [
      "Epoch 47/220, training loss: 0.00430098543944306\n"
     ]
    },
    {
     "data": {
      "application/vnd.jupyter.widget-view+json": {
       "model_id": "784e099617d84772a945e3fec7e0bc24",
       "version_major": 2,
       "version_minor": 0
      },
      "text/plain": [
       "Loss:   0%|          | 0/151 [00:00<?, ?it/s]"
      ]
     },
     "metadata": {},
     "output_type": "display_data"
    },
    {
     "name": "stdout",
     "output_type": "stream",
     "text": [
      "Epoch 48/220, training loss: 0.006850651027449709\n"
     ]
    },
    {
     "data": {
      "application/vnd.jupyter.widget-view+json": {
       "model_id": "88d91eb130d746cd90a0c6c461f34f8f",
       "version_major": 2,
       "version_minor": 0
      },
      "text/plain": [
       "Loss:   0%|          | 0/151 [00:00<?, ?it/s]"
      ]
     },
     "metadata": {},
     "output_type": "display_data"
    },
    {
     "name": "stdout",
     "output_type": "stream",
     "text": [
      "Epoch 49/220, training loss: 0.007813792855367804\n"
     ]
    },
    {
     "data": {
      "application/vnd.jupyter.widget-view+json": {
       "model_id": "b6214e958c984a09a00b7bda1ec4180b",
       "version_major": 2,
       "version_minor": 0
      },
      "text/plain": [
       "Loss:   0%|          | 0/151 [00:00<?, ?it/s]"
      ]
     },
     "metadata": {},
     "output_type": "display_data"
    },
    {
     "name": "stdout",
     "output_type": "stream",
     "text": [
      "Epoch 50/220, training loss: 0.0031584545777993437\n"
     ]
    },
    {
     "data": {
      "application/vnd.jupyter.widget-view+json": {
       "model_id": "e285cc38f46c4e0fb040388e0f9fe602",
       "version_major": 2,
       "version_minor": 0
      },
      "text/plain": [
       "Loss:   0%|          | 0/151 [00:00<?, ?it/s]"
      ]
     },
     "metadata": {},
     "output_type": "display_data"
    },
    {
     "name": "stdout",
     "output_type": "stream",
     "text": [
      "Epoch 51/220, training loss: 0.004188702651260988\n"
     ]
    },
    {
     "data": {
      "application/vnd.jupyter.widget-view+json": {
       "model_id": "4596588b59ee4912bb116d2466638313",
       "version_major": 2,
       "version_minor": 0
      },
      "text/plain": [
       "Loss:   0%|          | 0/151 [00:00<?, ?it/s]"
      ]
     },
     "metadata": {},
     "output_type": "display_data"
    },
    {
     "name": "stdout",
     "output_type": "stream",
     "text": [
      "Epoch 52/220, training loss: 0.00818969444922998\n"
     ]
    },
    {
     "data": {
      "application/vnd.jupyter.widget-view+json": {
       "model_id": "27ab4ded22ed4a5cb4aec4855446daff",
       "version_major": 2,
       "version_minor": 0
      },
      "text/plain": [
       "Loss:   0%|          | 0/151 [00:00<?, ?it/s]"
      ]
     },
     "metadata": {},
     "output_type": "display_data"
    },
    {
     "name": "stdout",
     "output_type": "stream",
     "text": [
      "Epoch 53/220, training loss: 0.006237207325013502\n"
     ]
    },
    {
     "data": {
      "application/vnd.jupyter.widget-view+json": {
       "model_id": "0f8a794d5664470e8ad2611fd8720e9d",
       "version_major": 2,
       "version_minor": 0
      },
      "text/plain": [
       "Loss:   0%|          | 0/151 [00:00<?, ?it/s]"
      ]
     },
     "metadata": {},
     "output_type": "display_data"
    },
    {
     "name": "stdout",
     "output_type": "stream",
     "text": [
      "Epoch 54/220, training loss: 0.010878184150240618\n"
     ]
    },
    {
     "data": {
      "application/vnd.jupyter.widget-view+json": {
       "model_id": "e93ad5bfaee841c9a87869540a4c84e9",
       "version_major": 2,
       "version_minor": 0
      },
      "text/plain": [
       "Loss:   0%|          | 0/151 [00:00<?, ?it/s]"
      ]
     },
     "metadata": {},
     "output_type": "display_data"
    },
    {
     "name": "stdout",
     "output_type": "stream",
     "text": [
      "Epoch 55/220, training loss: 0.009768185533223896\n"
     ]
    },
    {
     "data": {
      "application/vnd.jupyter.widget-view+json": {
       "model_id": "b382788d97574706b860ad091928894f",
       "version_major": 2,
       "version_minor": 0
      },
      "text/plain": [
       "Loss:   0%|          | 0/151 [00:00<?, ?it/s]"
      ]
     },
     "metadata": {},
     "output_type": "display_data"
    },
    {
     "name": "stdout",
     "output_type": "stream",
     "text": [
      "Epoch 56/220, training loss: 0.0029032279930805284\n"
     ]
    },
    {
     "data": {
      "application/vnd.jupyter.widget-view+json": {
       "model_id": "3253286d47584dbaa9e3f7c594319ba0",
       "version_major": 2,
       "version_minor": 0
      },
      "text/plain": [
       "Loss:   0%|          | 0/151 [00:00<?, ?it/s]"
      ]
     },
     "metadata": {},
     "output_type": "display_data"
    },
    {
     "name": "stdout",
     "output_type": "stream",
     "text": [
      "Epoch 57/220, training loss: 0.002167482810948408\n"
     ]
    },
    {
     "data": {
      "application/vnd.jupyter.widget-view+json": {
       "model_id": "a243b24408ea44f3b1077a360c432694",
       "version_major": 2,
       "version_minor": 0
      },
      "text/plain": [
       "Loss:   0%|          | 0/151 [00:00<?, ?it/s]"
      ]
     },
     "metadata": {},
     "output_type": "display_data"
    },
    {
     "name": "stdout",
     "output_type": "stream",
     "text": [
      "Epoch 58/220, training loss: 0.005405808953643123\n"
     ]
    },
    {
     "data": {
      "application/vnd.jupyter.widget-view+json": {
       "model_id": "c5b1b70a0c2f4d97a4deceac2dc8abdc",
       "version_major": 2,
       "version_minor": 0
      },
      "text/plain": [
       "Loss:   0%|          | 0/151 [00:00<?, ?it/s]"
      ]
     },
     "metadata": {},
     "output_type": "display_data"
    },
    {
     "name": "stdout",
     "output_type": "stream",
     "text": [
      "Epoch 59/220, training loss: 0.007391035306037693\n"
     ]
    },
    {
     "data": {
      "application/vnd.jupyter.widget-view+json": {
       "model_id": "772d3d4909c943758cc7ead61f3780d6",
       "version_major": 2,
       "version_minor": 0
      },
      "text/plain": [
       "Loss:   0%|          | 0/151 [00:00<?, ?it/s]"
      ]
     },
     "metadata": {},
     "output_type": "display_data"
    },
    {
     "name": "stdout",
     "output_type": "stream",
     "text": [
      "Epoch 60/220, training loss: 0.003745283705601777\n"
     ]
    },
    {
     "data": {
      "application/vnd.jupyter.widget-view+json": {
       "model_id": "c5e913e70e884e0987bc07a5896520d0",
       "version_major": 2,
       "version_minor": 0
      },
      "text/plain": [
       "Loss:   0%|          | 0/151 [00:00<?, ?it/s]"
      ]
     },
     "metadata": {},
     "output_type": "display_data"
    },
    {
     "name": "stdout",
     "output_type": "stream",
     "text": [
      "Epoch 61/220, training loss: 0.003245619350833439\n"
     ]
    },
    {
     "data": {
      "application/vnd.jupyter.widget-view+json": {
       "model_id": "bd76d51d17dc4fb683a4d1c79e6f2cbc",
       "version_major": 2,
       "version_minor": 0
      },
      "text/plain": [
       "Loss:   0%|          | 0/151 [00:00<?, ?it/s]"
      ]
     },
     "metadata": {},
     "output_type": "display_data"
    },
    {
     "name": "stdout",
     "output_type": "stream",
     "text": [
      "Epoch 62/220, training loss: 0.01023845722037676\n"
     ]
    },
    {
     "data": {
      "application/vnd.jupyter.widget-view+json": {
       "model_id": "a1d9a21864f8409792c104b3a2b6e8e6",
       "version_major": 2,
       "version_minor": 0
      },
      "text/plain": [
       "Loss:   0%|          | 0/151 [00:00<?, ?it/s]"
      ]
     },
     "metadata": {},
     "output_type": "display_data"
    },
    {
     "name": "stdout",
     "output_type": "stream",
     "text": [
      "Epoch 63/220, training loss: 0.004544544795657962\n"
     ]
    },
    {
     "data": {
      "application/vnd.jupyter.widget-view+json": {
       "model_id": "393a7a6f84784c12b74b45e80178da95",
       "version_major": 2,
       "version_minor": 0
      },
      "text/plain": [
       "Loss:   0%|          | 0/151 [00:00<?, ?it/s]"
      ]
     },
     "metadata": {},
     "output_type": "display_data"
    },
    {
     "name": "stdout",
     "output_type": "stream",
     "text": [
      "Epoch 64/220, training loss: 0.0032230323518430567\n"
     ]
    },
    {
     "data": {
      "application/vnd.jupyter.widget-view+json": {
       "model_id": "6d6dfcff8054432d9e57f8361b005463",
       "version_major": 2,
       "version_minor": 0
      },
      "text/plain": [
       "Loss:   0%|          | 0/151 [00:00<?, ?it/s]"
      ]
     },
     "metadata": {},
     "output_type": "display_data"
    },
    {
     "name": "stdout",
     "output_type": "stream",
     "text": [
      "Epoch 65/220, training loss: 0.001045578333099345\n"
     ]
    },
    {
     "data": {
      "application/vnd.jupyter.widget-view+json": {
       "model_id": "0d6a6287c1aa44ca873026e5a51cb787",
       "version_major": 2,
       "version_minor": 0
      },
      "text/plain": [
       "Loss:   0%|          | 0/151 [00:00<?, ?it/s]"
      ]
     },
     "metadata": {},
     "output_type": "display_data"
    },
    {
     "name": "stdout",
     "output_type": "stream",
     "text": [
      "Epoch 66/220, training loss: 0.004197701615966018\n"
     ]
    },
    {
     "data": {
      "application/vnd.jupyter.widget-view+json": {
       "model_id": "28e0cbc485b24afabecfca02b8d767f0",
       "version_major": 2,
       "version_minor": 0
      },
      "text/plain": [
       "Loss:   0%|          | 0/151 [00:00<?, ?it/s]"
      ]
     },
     "metadata": {},
     "output_type": "display_data"
    },
    {
     "name": "stdout",
     "output_type": "stream",
     "text": [
      "Epoch 67/220, training loss: 0.005409610562087407\n"
     ]
    },
    {
     "data": {
      "application/vnd.jupyter.widget-view+json": {
       "model_id": "4d6a1d6b0d494e0380d983f288dcb098",
       "version_major": 2,
       "version_minor": 0
      },
      "text/plain": [
       "Loss:   0%|          | 0/151 [00:00<?, ?it/s]"
      ]
     },
     "metadata": {},
     "output_type": "display_data"
    },
    {
     "name": "stdout",
     "output_type": "stream",
     "text": [
      "Epoch 68/220, training loss: 0.003145410975619429\n"
     ]
    },
    {
     "data": {
      "application/vnd.jupyter.widget-view+json": {
       "model_id": "bf1d51c2f9db472fa1ee6cbf0831f303",
       "version_major": 2,
       "version_minor": 0
      },
      "text/plain": [
       "Loss:   0%|          | 0/151 [00:00<?, ?it/s]"
      ]
     },
     "metadata": {},
     "output_type": "display_data"
    },
    {
     "name": "stdout",
     "output_type": "stream",
     "text": [
      "Epoch 69/220, training loss: 0.003446675843689498\n"
     ]
    },
    {
     "data": {
      "application/vnd.jupyter.widget-view+json": {
       "model_id": "a565c0ef8f464568b2e86bc4903212ab",
       "version_major": 2,
       "version_minor": 0
      },
      "text/plain": [
       "Loss:   0%|          | 0/151 [00:00<?, ?it/s]"
      ]
     },
     "metadata": {},
     "output_type": "display_data"
    },
    {
     "name": "stdout",
     "output_type": "stream",
     "text": [
      "Epoch 70/220, training loss: 0.003528238070044753\n"
     ]
    },
    {
     "data": {
      "application/vnd.jupyter.widget-view+json": {
       "model_id": "40f34504919549fda686de1582c4ac90",
       "version_major": 2,
       "version_minor": 0
      },
      "text/plain": [
       "Loss:   0%|          | 0/151 [00:00<?, ?it/s]"
      ]
     },
     "metadata": {},
     "output_type": "display_data"
    },
    {
     "name": "stdout",
     "output_type": "stream",
     "text": [
      "Epoch 71/220, training loss: 0.0029164925164624814\n"
     ]
    },
    {
     "data": {
      "application/vnd.jupyter.widget-view+json": {
       "model_id": "23f5f98e54774952bc50e9eadf0a8fe9",
       "version_major": 2,
       "version_minor": 0
      },
      "text/plain": [
       "Loss:   0%|          | 0/151 [00:00<?, ?it/s]"
      ]
     },
     "metadata": {},
     "output_type": "display_data"
    },
    {
     "name": "stdout",
     "output_type": "stream",
     "text": [
      "Epoch 72/220, training loss: 0.0018499600412405022\n"
     ]
    },
    {
     "data": {
      "application/vnd.jupyter.widget-view+json": {
       "model_id": "9ac29707645a447181b59a7fb5fce4fe",
       "version_major": 2,
       "version_minor": 0
      },
      "text/plain": [
       "Loss:   0%|          | 0/151 [00:00<?, ?it/s]"
      ]
     },
     "metadata": {},
     "output_type": "display_data"
    },
    {
     "name": "stdout",
     "output_type": "stream",
     "text": [
      "Epoch 73/220, training loss: 0.0026599898231728465\n"
     ]
    },
    {
     "data": {
      "application/vnd.jupyter.widget-view+json": {
       "model_id": "ac5c85c15e3c4a35948aa41ce3aef897",
       "version_major": 2,
       "version_minor": 0
      },
      "text/plain": [
       "Loss:   0%|          | 0/151 [00:00<?, ?it/s]"
      ]
     },
     "metadata": {},
     "output_type": "display_data"
    },
    {
     "name": "stdout",
     "output_type": "stream",
     "text": [
      "Epoch 74/220, training loss: 0.0009354386189407037\n"
     ]
    },
    {
     "data": {
      "application/vnd.jupyter.widget-view+json": {
       "model_id": "ad4367851b564d0abae791afb7e6b9b7",
       "version_major": 2,
       "version_minor": 0
      },
      "text/plain": [
       "Loss:   0%|          | 0/151 [00:00<?, ?it/s]"
      ]
     },
     "metadata": {},
     "output_type": "display_data"
    },
    {
     "name": "stdout",
     "output_type": "stream",
     "text": [
      "Epoch 75/220, training loss: 0.004665963892195264\n"
     ]
    },
    {
     "data": {
      "application/vnd.jupyter.widget-view+json": {
       "model_id": "3caa04bddecc4ca8867b4fff1ba23559",
       "version_major": 2,
       "version_minor": 0
      },
      "text/plain": [
       "Loss:   0%|          | 0/151 [00:00<?, ?it/s]"
      ]
     },
     "metadata": {},
     "output_type": "display_data"
    },
    {
     "name": "stdout",
     "output_type": "stream",
     "text": [
      "Epoch 76/220, training loss: 0.003155588204371095\n"
     ]
    },
    {
     "data": {
      "application/vnd.jupyter.widget-view+json": {
       "model_id": "3487d6734253458f94dda108e4563d4c",
       "version_major": 2,
       "version_minor": 0
      },
      "text/plain": [
       "Loss:   0%|          | 0/151 [00:00<?, ?it/s]"
      ]
     },
     "metadata": {},
     "output_type": "display_data"
    },
    {
     "name": "stdout",
     "output_type": "stream",
     "text": [
      "Epoch 77/220, training loss: 0.0017371250877664917\n"
     ]
    },
    {
     "data": {
      "application/vnd.jupyter.widget-view+json": {
       "model_id": "a4045930d0e0479d8d5df62ad1d75b62",
       "version_major": 2,
       "version_minor": 0
      },
      "text/plain": [
       "Loss:   0%|          | 0/151 [00:00<?, ?it/s]"
      ]
     },
     "metadata": {},
     "output_type": "display_data"
    },
    {
     "name": "stdout",
     "output_type": "stream",
     "text": [
      "Epoch 78/220, training loss: 0.002628552688539933\n"
     ]
    },
    {
     "data": {
      "application/vnd.jupyter.widget-view+json": {
       "model_id": "59e8a012c94b4e818ca5f92abf40795f",
       "version_major": 2,
       "version_minor": 0
      },
      "text/plain": [
       "Loss:   0%|          | 0/151 [00:00<?, ?it/s]"
      ]
     },
     "metadata": {},
     "output_type": "display_data"
    },
    {
     "name": "stdout",
     "output_type": "stream",
     "text": [
      "Epoch 79/220, training loss: 0.0015336196003098192\n"
     ]
    },
    {
     "data": {
      "application/vnd.jupyter.widget-view+json": {
       "model_id": "fa84c9b8246e4c0b9b58900c57e74ca8",
       "version_major": 2,
       "version_minor": 0
      },
      "text/plain": [
       "Loss:   0%|          | 0/151 [00:00<?, ?it/s]"
      ]
     },
     "metadata": {},
     "output_type": "display_data"
    },
    {
     "name": "stdout",
     "output_type": "stream",
     "text": [
      "Epoch 80/220, training loss: 0.001997590873934736\n"
     ]
    },
    {
     "data": {
      "application/vnd.jupyter.widget-view+json": {
       "model_id": "a6534c4efe22421a967fa5d3e1bc8542",
       "version_major": 2,
       "version_minor": 0
      },
      "text/plain": [
       "Loss:   0%|          | 0/151 [00:00<?, ?it/s]"
      ]
     },
     "metadata": {},
     "output_type": "display_data"
    },
    {
     "name": "stdout",
     "output_type": "stream",
     "text": [
      "Epoch 81/220, training loss: 0.002384277680867185\n"
     ]
    },
    {
     "data": {
      "application/vnd.jupyter.widget-view+json": {
       "model_id": "042c6bd431764512947708aff3abf3a7",
       "version_major": 2,
       "version_minor": 0
      },
      "text/plain": [
       "Loss:   0%|          | 0/151 [00:00<?, ?it/s]"
      ]
     },
     "metadata": {},
     "output_type": "display_data"
    },
    {
     "name": "stdout",
     "output_type": "stream",
     "text": [
      "Epoch 82/220, training loss: 0.0007027271690848592\n"
     ]
    },
    {
     "data": {
      "application/vnd.jupyter.widget-view+json": {
       "model_id": "b041cf2ebd134f05bc79495af2872c6a",
       "version_major": 2,
       "version_minor": 0
      },
      "text/plain": [
       "Loss:   0%|          | 0/151 [00:00<?, ?it/s]"
      ]
     },
     "metadata": {},
     "output_type": "display_data"
    },
    {
     "name": "stdout",
     "output_type": "stream",
     "text": [
      "Epoch 83/220, training loss: 0.0003951597256360064\n"
     ]
    },
    {
     "data": {
      "application/vnd.jupyter.widget-view+json": {
       "model_id": "5cbe29ce181344a693b074083e15a0dd",
       "version_major": 2,
       "version_minor": 0
      },
      "text/plain": [
       "Loss:   0%|          | 0/151 [00:00<?, ?it/s]"
      ]
     },
     "metadata": {},
     "output_type": "display_data"
    },
    {
     "name": "stdout",
     "output_type": "stream",
     "text": [
      "Epoch 84/220, training loss: 0.002053660710187265\n"
     ]
    },
    {
     "data": {
      "application/vnd.jupyter.widget-view+json": {
       "model_id": "3884ceb15c664c47bd31d77c5cd7a77d",
       "version_major": 2,
       "version_minor": 0
      },
      "text/plain": [
       "Loss:   0%|          | 0/151 [00:00<?, ?it/s]"
      ]
     },
     "metadata": {},
     "output_type": "display_data"
    },
    {
     "name": "stdout",
     "output_type": "stream",
     "text": [
      "Epoch 85/220, training loss: 0.0009160441290475398\n"
     ]
    },
    {
     "data": {
      "application/vnd.jupyter.widget-view+json": {
       "model_id": "be1410736c884735a5ab9aa2e7f6bc77",
       "version_major": 2,
       "version_minor": 0
      },
      "text/plain": [
       "Loss:   0%|          | 0/151 [00:00<?, ?it/s]"
      ]
     },
     "metadata": {},
     "output_type": "display_data"
    },
    {
     "name": "stdout",
     "output_type": "stream",
     "text": [
      "Epoch 86/220, training loss: 0.0006542438879466095\n"
     ]
    },
    {
     "data": {
      "application/vnd.jupyter.widget-view+json": {
       "model_id": "13312d01b2b54775abd4bf536392ba01",
       "version_major": 2,
       "version_minor": 0
      },
      "text/plain": [
       "Loss:   0%|          | 0/151 [00:00<?, ?it/s]"
      ]
     },
     "metadata": {},
     "output_type": "display_data"
    },
    {
     "name": "stdout",
     "output_type": "stream",
     "text": [
      "Epoch 87/220, training loss: 0.0012784508784751242\n"
     ]
    },
    {
     "data": {
      "application/vnd.jupyter.widget-view+json": {
       "model_id": "adcd87969cd24d4b9b86c706da63c5b6",
       "version_major": 2,
       "version_minor": 0
      },
      "text/plain": [
       "Loss:   0%|          | 0/151 [00:00<?, ?it/s]"
      ]
     },
     "metadata": {},
     "output_type": "display_data"
    },
    {
     "name": "stdout",
     "output_type": "stream",
     "text": [
      "Epoch 88/220, training loss: 0.0003635998558133936\n"
     ]
    },
    {
     "data": {
      "application/vnd.jupyter.widget-view+json": {
       "model_id": "b8184bba92ac438ab16b40f10b2a898a",
       "version_major": 2,
       "version_minor": 0
      },
      "text/plain": [
       "Loss:   0%|          | 0/151 [00:00<?, ?it/s]"
      ]
     },
     "metadata": {},
     "output_type": "display_data"
    },
    {
     "name": "stdout",
     "output_type": "stream",
     "text": [
      "Epoch 89/220, training loss: 0.0017924954310656659\n"
     ]
    },
    {
     "data": {
      "application/vnd.jupyter.widget-view+json": {
       "model_id": "6b1ef250ef2c49af8a0a229a2a9ebe7d",
       "version_major": 2,
       "version_minor": 0
      },
      "text/plain": [
       "Loss:   0%|          | 0/151 [00:00<?, ?it/s]"
      ]
     },
     "metadata": {},
     "output_type": "display_data"
    },
    {
     "name": "stdout",
     "output_type": "stream",
     "text": [
      "Epoch 90/220, training loss: 0.0035894678948780166\n"
     ]
    },
    {
     "data": {
      "application/vnd.jupyter.widget-view+json": {
       "model_id": "fef2816aba0a4d7d8d49ca71c6af6abf",
       "version_major": 2,
       "version_minor": 0
      },
      "text/plain": [
       "Loss:   0%|          | 0/151 [00:00<?, ?it/s]"
      ]
     },
     "metadata": {},
     "output_type": "display_data"
    },
    {
     "name": "stdout",
     "output_type": "stream",
     "text": [
      "Epoch 91/220, training loss: 0.003391278062079569\n"
     ]
    },
    {
     "data": {
      "application/vnd.jupyter.widget-view+json": {
       "model_id": "f00f393193cf4e99a15faf5dab7d53c9",
       "version_major": 2,
       "version_minor": 0
      },
      "text/plain": [
       "Loss:   0%|          | 0/151 [00:00<?, ?it/s]"
      ]
     },
     "metadata": {},
     "output_type": "display_data"
    },
    {
     "name": "stdout",
     "output_type": "stream",
     "text": [
      "Epoch 92/220, training loss: 0.0008799905754974273\n"
     ]
    },
    {
     "data": {
      "application/vnd.jupyter.widget-view+json": {
       "model_id": "ff2a14bf6ae14eb49a3bb4cad9d9ac68",
       "version_major": 2,
       "version_minor": 0
      },
      "text/plain": [
       "Loss:   0%|          | 0/151 [00:00<?, ?it/s]"
      ]
     },
     "metadata": {},
     "output_type": "display_data"
    },
    {
     "name": "stdout",
     "output_type": "stream",
     "text": [
      "Epoch 93/220, training loss: 0.00046355897011501337\n"
     ]
    },
    {
     "data": {
      "application/vnd.jupyter.widget-view+json": {
       "model_id": "c2eb412f6d434933afc2fc5a4063c57d",
       "version_major": 2,
       "version_minor": 0
      },
      "text/plain": [
       "Loss:   0%|          | 0/151 [00:00<?, ?it/s]"
      ]
     },
     "metadata": {},
     "output_type": "display_data"
    },
    {
     "name": "stdout",
     "output_type": "stream",
     "text": [
      "Epoch 94/220, training loss: 0.0002917211307833335\n"
     ]
    },
    {
     "data": {
      "application/vnd.jupyter.widget-view+json": {
       "model_id": "e5610d1c29e544f4b87c84858a3496dc",
       "version_major": 2,
       "version_minor": 0
      },
      "text/plain": [
       "Loss:   0%|          | 0/151 [00:00<?, ?it/s]"
      ]
     },
     "metadata": {},
     "output_type": "display_data"
    },
    {
     "name": "stdout",
     "output_type": "stream",
     "text": [
      "Epoch 95/220, training loss: 0.001336572054067753\n"
     ]
    },
    {
     "data": {
      "application/vnd.jupyter.widget-view+json": {
       "model_id": "4ad48e59dd7c451db7e70c35ac92c65e",
       "version_major": 2,
       "version_minor": 0
      },
      "text/plain": [
       "Loss:   0%|          | 0/151 [00:00<?, ?it/s]"
      ]
     },
     "metadata": {},
     "output_type": "display_data"
    },
    {
     "name": "stdout",
     "output_type": "stream",
     "text": [
      "Epoch 96/220, training loss: 0.0010627948125912607\n"
     ]
    },
    {
     "data": {
      "application/vnd.jupyter.widget-view+json": {
       "model_id": "11a5dc37acb84233a877f58741de8f4d",
       "version_major": 2,
       "version_minor": 0
      },
      "text/plain": [
       "Loss:   0%|          | 0/151 [00:00<?, ?it/s]"
      ]
     },
     "metadata": {},
     "output_type": "display_data"
    },
    {
     "name": "stdout",
     "output_type": "stream",
     "text": [
      "Epoch 97/220, training loss: 0.0014836185295497135\n"
     ]
    },
    {
     "data": {
      "application/vnd.jupyter.widget-view+json": {
       "model_id": "7c3d1a6543164d7c986b50bc2b71fb84",
       "version_major": 2,
       "version_minor": 0
      },
      "text/plain": [
       "Loss:   0%|          | 0/151 [00:00<?, ?it/s]"
      ]
     },
     "metadata": {},
     "output_type": "display_data"
    },
    {
     "name": "stdout",
     "output_type": "stream",
     "text": [
      "Epoch 98/220, training loss: 0.00033914070438234356\n"
     ]
    },
    {
     "data": {
      "application/vnd.jupyter.widget-view+json": {
       "model_id": "e89f160556ff433bad36a0dbf857c799",
       "version_major": 2,
       "version_minor": 0
      },
      "text/plain": [
       "Loss:   0%|          | 0/151 [00:00<?, ?it/s]"
      ]
     },
     "metadata": {},
     "output_type": "display_data"
    },
    {
     "name": "stdout",
     "output_type": "stream",
     "text": [
      "Epoch 99/220, training loss: 0.001049370939798737\n"
     ]
    },
    {
     "data": {
      "application/vnd.jupyter.widget-view+json": {
       "model_id": "4f47f868acca4bc3861ae9e7b18e9ee6",
       "version_major": 2,
       "version_minor": 0
      },
      "text/plain": [
       "Loss:   0%|          | 0/151 [00:00<?, ?it/s]"
      ]
     },
     "metadata": {},
     "output_type": "display_data"
    },
    {
     "name": "stdout",
     "output_type": "stream",
     "text": [
      "Epoch 100/220, training loss: 0.00048228208192121867\n"
     ]
    },
    {
     "data": {
      "application/vnd.jupyter.widget-view+json": {
       "model_id": "2b8eaa21ec8e4a4f9d0b8de4a0af383a",
       "version_major": 2,
       "version_minor": 0
      },
      "text/plain": [
       "Loss:   0%|          | 0/151 [00:00<?, ?it/s]"
      ]
     },
     "metadata": {},
     "output_type": "display_data"
    },
    {
     "name": "stdout",
     "output_type": "stream",
     "text": [
      "Epoch 101/220, training loss: 0.0003544374103753308\n"
     ]
    },
    {
     "data": {
      "application/vnd.jupyter.widget-view+json": {
       "model_id": "c42a8038a61042ee8eeaed0758c24665",
       "version_major": 2,
       "version_minor": 0
      },
      "text/plain": [
       "Loss:   0%|          | 0/151 [00:00<?, ?it/s]"
      ]
     },
     "metadata": {},
     "output_type": "display_data"
    },
    {
     "name": "stdout",
     "output_type": "stream",
     "text": [
      "Epoch 102/220, training loss: 0.0004678229918422614\n"
     ]
    },
    {
     "data": {
      "application/vnd.jupyter.widget-view+json": {
       "model_id": "5627c3c1857148ecb1c2ed29b6b76d51",
       "version_major": 2,
       "version_minor": 0
      },
      "text/plain": [
       "Loss:   0%|          | 0/151 [00:00<?, ?it/s]"
      ]
     },
     "metadata": {},
     "output_type": "display_data"
    },
    {
     "name": "stdout",
     "output_type": "stream",
     "text": [
      "Epoch 103/220, training loss: 0.0008628860368061462\n"
     ]
    },
    {
     "data": {
      "application/vnd.jupyter.widget-view+json": {
       "model_id": "6e5eb209cd7d43c2b5e0cc435adb3ff8",
       "version_major": 2,
       "version_minor": 0
      },
      "text/plain": [
       "Loss:   0%|          | 0/151 [00:00<?, ?it/s]"
      ]
     },
     "metadata": {},
     "output_type": "display_data"
    },
    {
     "name": "stdout",
     "output_type": "stream",
     "text": [
      "Epoch 104/220, training loss: 0.00026190667825399063\n"
     ]
    },
    {
     "data": {
      "application/vnd.jupyter.widget-view+json": {
       "model_id": "69548ca0668f4fd9a41d978a3e3b2718",
       "version_major": 2,
       "version_minor": 0
      },
      "text/plain": [
       "Loss:   0%|          | 0/151 [00:00<?, ?it/s]"
      ]
     },
     "metadata": {},
     "output_type": "display_data"
    },
    {
     "name": "stdout",
     "output_type": "stream",
     "text": [
      "Epoch 105/220, training loss: 0.00015389513082602618\n"
     ]
    },
    {
     "data": {
      "application/vnd.jupyter.widget-view+json": {
       "model_id": "b04e11b5510d435d992470fc270ef274",
       "version_major": 2,
       "version_minor": 0
      },
      "text/plain": [
       "Loss:   0%|          | 0/151 [00:00<?, ?it/s]"
      ]
     },
     "metadata": {},
     "output_type": "display_data"
    },
    {
     "name": "stdout",
     "output_type": "stream",
     "text": [
      "Epoch 106/220, training loss: 0.00020766878262762982\n"
     ]
    },
    {
     "data": {
      "application/vnd.jupyter.widget-view+json": {
       "model_id": "a31e7981549448678be7947265bc7f2a",
       "version_major": 2,
       "version_minor": 0
      },
      "text/plain": [
       "Loss:   0%|          | 0/151 [00:00<?, ?it/s]"
      ]
     },
     "metadata": {},
     "output_type": "display_data"
    },
    {
     "name": "stdout",
     "output_type": "stream",
     "text": [
      "Epoch 107/220, training loss: 0.0002394937927546446\n"
     ]
    },
    {
     "data": {
      "application/vnd.jupyter.widget-view+json": {
       "model_id": "a3367087d8114e1db0ec0525857cc078",
       "version_major": 2,
       "version_minor": 0
      },
      "text/plain": [
       "Loss:   0%|          | 0/151 [00:00<?, ?it/s]"
      ]
     },
     "metadata": {},
     "output_type": "display_data"
    },
    {
     "name": "stdout",
     "output_type": "stream",
     "text": [
      "Epoch 108/220, training loss: 0.0003838043530476056\n"
     ]
    },
    {
     "data": {
      "application/vnd.jupyter.widget-view+json": {
       "model_id": "0dce1aea93d34ac280313424b542c249",
       "version_major": 2,
       "version_minor": 0
      },
      "text/plain": [
       "Loss:   0%|          | 0/151 [00:00<?, ?it/s]"
      ]
     },
     "metadata": {},
     "output_type": "display_data"
    },
    {
     "name": "stdout",
     "output_type": "stream",
     "text": [
      "Epoch 109/220, training loss: 0.0004544880576572452\n"
     ]
    },
    {
     "data": {
      "application/vnd.jupyter.widget-view+json": {
       "model_id": "0fb311b315ab468ea7870272fd20b7cf",
       "version_major": 2,
       "version_minor": 0
      },
      "text/plain": [
       "Loss:   0%|          | 0/151 [00:00<?, ?it/s]"
      ]
     },
     "metadata": {},
     "output_type": "display_data"
    },
    {
     "name": "stdout",
     "output_type": "stream",
     "text": [
      "Epoch 110/220, training loss: 0.00036019445712933904\n"
     ]
    },
    {
     "data": {
      "application/vnd.jupyter.widget-view+json": {
       "model_id": "af4bf5ad0e474fc986a0cae9cccb9e59",
       "version_major": 2,
       "version_minor": 0
      },
      "text/plain": [
       "Loss:   0%|          | 0/151 [00:00<?, ?it/s]"
      ]
     },
     "metadata": {},
     "output_type": "display_data"
    },
    {
     "name": "stdout",
     "output_type": "stream",
     "text": [
      "Epoch 111/220, training loss: 0.00019326564868618558\n"
     ]
    },
    {
     "data": {
      "application/vnd.jupyter.widget-view+json": {
       "model_id": "8522e781c600447089cd262adc175c93",
       "version_major": 2,
       "version_minor": 0
      },
      "text/plain": [
       "Loss:   0%|          | 0/151 [00:00<?, ?it/s]"
      ]
     },
     "metadata": {},
     "output_type": "display_data"
    },
    {
     "name": "stdout",
     "output_type": "stream",
     "text": [
      "Epoch 112/220, training loss: 0.0007556376090509946\n"
     ]
    },
    {
     "data": {
      "application/vnd.jupyter.widget-view+json": {
       "model_id": "2477b00a9f7b40f39cdfee36bce91b30",
       "version_major": 2,
       "version_minor": 0
      },
      "text/plain": [
       "Loss:   0%|          | 0/151 [00:00<?, ?it/s]"
      ]
     },
     "metadata": {},
     "output_type": "display_data"
    },
    {
     "name": "stdout",
     "output_type": "stream",
     "text": [
      "Epoch 113/220, training loss: 0.00023486958167232174\n"
     ]
    },
    {
     "data": {
      "application/vnd.jupyter.widget-view+json": {
       "model_id": "8fc4f563077143b3897eb3eefd295e12",
       "version_major": 2,
       "version_minor": 0
      },
      "text/plain": [
       "Loss:   0%|          | 0/151 [00:00<?, ?it/s]"
      ]
     },
     "metadata": {},
     "output_type": "display_data"
    },
    {
     "name": "stdout",
     "output_type": "stream",
     "text": [
      "Epoch 114/220, training loss: 0.00026697651329287445\n"
     ]
    },
    {
     "data": {
      "application/vnd.jupyter.widget-view+json": {
       "model_id": "c5c8c2e70fcd4742a50f77e47aca5c0f",
       "version_major": 2,
       "version_minor": 0
      },
      "text/plain": [
       "Loss:   0%|          | 0/151 [00:00<?, ?it/s]"
      ]
     },
     "metadata": {},
     "output_type": "display_data"
    },
    {
     "name": "stdout",
     "output_type": "stream",
     "text": [
      "Epoch 115/220, training loss: 0.0002002351336297868\n"
     ]
    },
    {
     "data": {
      "application/vnd.jupyter.widget-view+json": {
       "model_id": "b8a4fe846e164cfabcc87daa0308f335",
       "version_major": 2,
       "version_minor": 0
      },
      "text/plain": [
       "Loss:   0%|          | 0/151 [00:00<?, ?it/s]"
      ]
     },
     "metadata": {},
     "output_type": "display_data"
    },
    {
     "name": "stdout",
     "output_type": "stream",
     "text": [
      "Epoch 116/220, training loss: 0.0005024484308759932\n"
     ]
    },
    {
     "data": {
      "application/vnd.jupyter.widget-view+json": {
       "model_id": "14cbd2ada3ad4925bee31405094b3f9a",
       "version_major": 2,
       "version_minor": 0
      },
      "text/plain": [
       "Loss:   0%|          | 0/151 [00:00<?, ?it/s]"
      ]
     },
     "metadata": {},
     "output_type": "display_data"
    },
    {
     "name": "stdout",
     "output_type": "stream",
     "text": [
      "Epoch 117/220, training loss: 0.0002806235866799229\n"
     ]
    },
    {
     "data": {
      "application/vnd.jupyter.widget-view+json": {
       "model_id": "079c4efd4b414238b92c916941579958",
       "version_major": 2,
       "version_minor": 0
      },
      "text/plain": [
       "Loss:   0%|          | 0/151 [00:00<?, ?it/s]"
      ]
     },
     "metadata": {},
     "output_type": "display_data"
    },
    {
     "name": "stdout",
     "output_type": "stream",
     "text": [
      "Epoch 118/220, training loss: 0.00018337437941588498\n"
     ]
    },
    {
     "data": {
      "application/vnd.jupyter.widget-view+json": {
       "model_id": "9cb81aa81519432699ed60a2ae9f7c53",
       "version_major": 2,
       "version_minor": 0
      },
      "text/plain": [
       "Loss:   0%|          | 0/151 [00:00<?, ?it/s]"
      ]
     },
     "metadata": {},
     "output_type": "display_data"
    },
    {
     "name": "stdout",
     "output_type": "stream",
     "text": [
      "Epoch 119/220, training loss: 0.00023980388359391418\n"
     ]
    },
    {
     "data": {
      "application/vnd.jupyter.widget-view+json": {
       "model_id": "b56833f494714a17b4756bab2371c316",
       "version_major": 2,
       "version_minor": 0
      },
      "text/plain": [
       "Loss:   0%|          | 0/151 [00:00<?, ?it/s]"
      ]
     },
     "metadata": {},
     "output_type": "display_data"
    },
    {
     "name": "stdout",
     "output_type": "stream",
     "text": [
      "Epoch 120/220, training loss: 9.861650464368505e-05\n"
     ]
    },
    {
     "data": {
      "application/vnd.jupyter.widget-view+json": {
       "model_id": "405d934a9a564fb8aed0da1ce9ed23fd",
       "version_major": 2,
       "version_minor": 0
      },
      "text/plain": [
       "Loss:   0%|          | 0/151 [00:00<?, ?it/s]"
      ]
     },
     "metadata": {},
     "output_type": "display_data"
    },
    {
     "name": "stdout",
     "output_type": "stream",
     "text": [
      "Epoch 121/220, training loss: 0.0001257452676905597\n"
     ]
    },
    {
     "data": {
      "application/vnd.jupyter.widget-view+json": {
       "model_id": "ea808473449e457b8f035f1a20332598",
       "version_major": 2,
       "version_minor": 0
      },
      "text/plain": [
       "Loss:   0%|          | 0/151 [00:00<?, ?it/s]"
      ]
     },
     "metadata": {},
     "output_type": "display_data"
    },
    {
     "name": "stdout",
     "output_type": "stream",
     "text": [
      "Epoch 122/220, training loss: 0.0001477106835885187\n"
     ]
    },
    {
     "data": {
      "application/vnd.jupyter.widget-view+json": {
       "model_id": "280511535fa54e0aa54f1afbf0185fcf",
       "version_major": 2,
       "version_minor": 0
      },
      "text/plain": [
       "Loss:   0%|          | 0/151 [00:00<?, ?it/s]"
      ]
     },
     "metadata": {},
     "output_type": "display_data"
    },
    {
     "name": "stdout",
     "output_type": "stream",
     "text": [
      "Epoch 123/220, training loss: 6.800066122671687e-05\n"
     ]
    },
    {
     "data": {
      "application/vnd.jupyter.widget-view+json": {
       "model_id": "12067666cfaa4afea303ee144d3c8ccd",
       "version_major": 2,
       "version_minor": 0
      },
      "text/plain": [
       "Loss:   0%|          | 0/151 [00:00<?, ?it/s]"
      ]
     },
     "metadata": {},
     "output_type": "display_data"
    },
    {
     "name": "stdout",
     "output_type": "stream",
     "text": [
      "Epoch 124/220, training loss: 0.00015452324656290865\n"
     ]
    },
    {
     "data": {
      "application/vnd.jupyter.widget-view+json": {
       "model_id": "0a0c0ca02a8f4ebd9a5151cc64832779",
       "version_major": 2,
       "version_minor": 0
      },
      "text/plain": [
       "Loss:   0%|          | 0/151 [00:00<?, ?it/s]"
      ]
     },
     "metadata": {},
     "output_type": "display_data"
    },
    {
     "name": "stdout",
     "output_type": "stream",
     "text": [
      "Epoch 125/220, training loss: 0.00017595926315544115\n"
     ]
    },
    {
     "data": {
      "application/vnd.jupyter.widget-view+json": {
       "model_id": "d612148c4caa470488348d28bbef1ecb",
       "version_major": 2,
       "version_minor": 0
      },
      "text/plain": [
       "Loss:   0%|          | 0/151 [00:00<?, ?it/s]"
      ]
     },
     "metadata": {},
     "output_type": "display_data"
    },
    {
     "name": "stdout",
     "output_type": "stream",
     "text": [
      "Epoch 126/220, training loss: 7.41001238638519e-05\n"
     ]
    },
    {
     "data": {
      "application/vnd.jupyter.widget-view+json": {
       "model_id": "e40bfecd72d24044b9789bce12637ad4",
       "version_major": 2,
       "version_minor": 0
      },
      "text/plain": [
       "Loss:   0%|          | 0/151 [00:00<?, ?it/s]"
      ]
     },
     "metadata": {},
     "output_type": "display_data"
    },
    {
     "name": "stdout",
     "output_type": "stream",
     "text": [
      "Epoch 127/220, training loss: 0.00010747211140580283\n"
     ]
    },
    {
     "data": {
      "application/vnd.jupyter.widget-view+json": {
       "model_id": "9d6cbffcd0054bf4aad48beb6493992a",
       "version_major": 2,
       "version_minor": 0
      },
      "text/plain": [
       "Loss:   0%|          | 0/151 [00:00<?, ?it/s]"
      ]
     },
     "metadata": {},
     "output_type": "display_data"
    },
    {
     "name": "stdout",
     "output_type": "stream",
     "text": [
      "Epoch 128/220, training loss: 7.312204162184004e-05\n"
     ]
    },
    {
     "data": {
      "application/vnd.jupyter.widget-view+json": {
       "model_id": "c9a88326795242b2a438b44820e0b69f",
       "version_major": 2,
       "version_minor": 0
      },
      "text/plain": [
       "Loss:   0%|          | 0/151 [00:00<?, ?it/s]"
      ]
     },
     "metadata": {},
     "output_type": "display_data"
    },
    {
     "name": "stdout",
     "output_type": "stream",
     "text": [
      "Epoch 129/220, training loss: 0.00023821307219642397\n"
     ]
    },
    {
     "data": {
      "application/vnd.jupyter.widget-view+json": {
       "model_id": "8d4a4bcaa89d4c31b9c349f42a112cb3",
       "version_major": 2,
       "version_minor": 0
      },
      "text/plain": [
       "Loss:   0%|          | 0/151 [00:00<?, ?it/s]"
      ]
     },
     "metadata": {},
     "output_type": "display_data"
    },
    {
     "name": "stdout",
     "output_type": "stream",
     "text": [
      "Epoch 130/220, training loss: 8.154386338919601e-05\n"
     ]
    },
    {
     "data": {
      "application/vnd.jupyter.widget-view+json": {
       "model_id": "76bbe04b6fb240299c4b474d55075108",
       "version_major": 2,
       "version_minor": 0
      },
      "text/plain": [
       "Loss:   0%|          | 0/151 [00:00<?, ?it/s]"
      ]
     },
     "metadata": {},
     "output_type": "display_data"
    },
    {
     "name": "stdout",
     "output_type": "stream",
     "text": [
      "Epoch 131/220, training loss: 5.239368081506263e-05\n"
     ]
    },
    {
     "data": {
      "application/vnd.jupyter.widget-view+json": {
       "model_id": "7c43e3ff17e34c7bbeaa5ac693bb2cb0",
       "version_major": 2,
       "version_minor": 0
      },
      "text/plain": [
       "Loss:   0%|          | 0/151 [00:00<?, ?it/s]"
      ]
     },
     "metadata": {},
     "output_type": "display_data"
    },
    {
     "name": "stdout",
     "output_type": "stream",
     "text": [
      "Epoch 132/220, training loss: 4.363928114166479e-05\n"
     ]
    },
    {
     "data": {
      "application/vnd.jupyter.widget-view+json": {
       "model_id": "7ea5f32b90d143f09ea329ca3d96103e",
       "version_major": 2,
       "version_minor": 0
      },
      "text/plain": [
       "Loss:   0%|          | 0/151 [00:00<?, ?it/s]"
      ]
     },
     "metadata": {},
     "output_type": "display_data"
    },
    {
     "name": "stdout",
     "output_type": "stream",
     "text": [
      "Epoch 133/220, training loss: 5.1390261015868175e-05\n"
     ]
    },
    {
     "data": {
      "application/vnd.jupyter.widget-view+json": {
       "model_id": "f804929507c8488eb9a53943e7080870",
       "version_major": 2,
       "version_minor": 0
      },
      "text/plain": [
       "Loss:   0%|          | 0/151 [00:00<?, ?it/s]"
      ]
     },
     "metadata": {},
     "output_type": "display_data"
    },
    {
     "name": "stdout",
     "output_type": "stream",
     "text": [
      "Epoch 134/220, training loss: 7.480339501931752e-05\n"
     ]
    },
    {
     "data": {
      "application/vnd.jupyter.widget-view+json": {
       "model_id": "f78b4a57c7474d788c26a6796a955f14",
       "version_major": 2,
       "version_minor": 0
      },
      "text/plain": [
       "Loss:   0%|          | 0/151 [00:00<?, ?it/s]"
      ]
     },
     "metadata": {},
     "output_type": "display_data"
    },
    {
     "name": "stdout",
     "output_type": "stream",
     "text": [
      "Epoch 135/220, training loss: 3.593135299422481e-05\n"
     ]
    },
    {
     "data": {
      "application/vnd.jupyter.widget-view+json": {
       "model_id": "87951ecc70ed4a5aa32bad93ae2bd61c",
       "version_major": 2,
       "version_minor": 0
      },
      "text/plain": [
       "Loss:   0%|          | 0/151 [00:00<?, ?it/s]"
      ]
     },
     "metadata": {},
     "output_type": "display_data"
    },
    {
     "name": "stdout",
     "output_type": "stream",
     "text": [
      "Epoch 136/220, training loss: 0.00016417249081248112\n"
     ]
    },
    {
     "data": {
      "application/vnd.jupyter.widget-view+json": {
       "model_id": "0c41b4fc500a42dea413bc7ada9d17dc",
       "version_major": 2,
       "version_minor": 0
      },
      "text/plain": [
       "Loss:   0%|          | 0/151 [00:00<?, ?it/s]"
      ]
     },
     "metadata": {},
     "output_type": "display_data"
    },
    {
     "name": "stdout",
     "output_type": "stream",
     "text": [
      "Epoch 137/220, training loss: 0.0001497504678797445\n"
     ]
    },
    {
     "data": {
      "application/vnd.jupyter.widget-view+json": {
       "model_id": "6a10bf8c04904a6e8a364b788e5defe5",
       "version_major": 2,
       "version_minor": 0
      },
      "text/plain": [
       "Loss:   0%|          | 0/151 [00:00<?, ?it/s]"
      ]
     },
     "metadata": {},
     "output_type": "display_data"
    },
    {
     "name": "stdout",
     "output_type": "stream",
     "text": [
      "Epoch 138/220, training loss: 6.128935285612186e-05\n"
     ]
    },
    {
     "data": {
      "application/vnd.jupyter.widget-view+json": {
       "model_id": "cad97f640ae84cd7bbd5301bcaf22f53",
       "version_major": 2,
       "version_minor": 0
      },
      "text/plain": [
       "Loss:   0%|          | 0/151 [00:00<?, ?it/s]"
      ]
     },
     "metadata": {},
     "output_type": "display_data"
    },
    {
     "name": "stdout",
     "output_type": "stream",
     "text": [
      "Epoch 139/220, training loss: 5.379989359528356e-05\n"
     ]
    },
    {
     "data": {
      "application/vnd.jupyter.widget-view+json": {
       "model_id": "650e31138b6043f4b9702a45b795efb3",
       "version_major": 2,
       "version_minor": 0
      },
      "text/plain": [
       "Loss:   0%|          | 0/151 [00:00<?, ?it/s]"
      ]
     },
     "metadata": {},
     "output_type": "display_data"
    },
    {
     "name": "stdout",
     "output_type": "stream",
     "text": [
      "Epoch 140/220, training loss: 3.6818348173364216e-05\n"
     ]
    },
    {
     "data": {
      "application/vnd.jupyter.widget-view+json": {
       "model_id": "73860efb04694f2c86545a482ed93857",
       "version_major": 2,
       "version_minor": 0
      },
      "text/plain": [
       "Loss:   0%|          | 0/151 [00:00<?, ?it/s]"
      ]
     },
     "metadata": {},
     "output_type": "display_data"
    },
    {
     "name": "stdout",
     "output_type": "stream",
     "text": [
      "Epoch 141/220, training loss: 2.815437215572003e-05\n"
     ]
    },
    {
     "data": {
      "application/vnd.jupyter.widget-view+json": {
       "model_id": "0777a7f2702f4845bcc3f6f4fb8e23e2",
       "version_major": 2,
       "version_minor": 0
      },
      "text/plain": [
       "Loss:   0%|          | 0/151 [00:00<?, ?it/s]"
      ]
     },
     "metadata": {},
     "output_type": "display_data"
    },
    {
     "name": "stdout",
     "output_type": "stream",
     "text": [
      "Epoch 142/220, training loss: 3.3927604968596745e-05\n"
     ]
    },
    {
     "data": {
      "application/vnd.jupyter.widget-view+json": {
       "model_id": "404f20c20cd3417689bd32ad2b14513d",
       "version_major": 2,
       "version_minor": 0
      },
      "text/plain": [
       "Loss:   0%|          | 0/151 [00:00<?, ?it/s]"
      ]
     },
     "metadata": {},
     "output_type": "display_data"
    },
    {
     "name": "stdout",
     "output_type": "stream",
     "text": [
      "Epoch 143/220, training loss: 7.228797521115335e-05\n"
     ]
    },
    {
     "data": {
      "application/vnd.jupyter.widget-view+json": {
       "model_id": "f30519f71abc4e5bb2f5754c3b32c867",
       "version_major": 2,
       "version_minor": 0
      },
      "text/plain": [
       "Loss:   0%|          | 0/151 [00:00<?, ?it/s]"
      ]
     },
     "metadata": {},
     "output_type": "display_data"
    },
    {
     "name": "stdout",
     "output_type": "stream",
     "text": [
      "Epoch 144/220, training loss: 4.912042868153434e-05\n"
     ]
    },
    {
     "data": {
      "application/vnd.jupyter.widget-view+json": {
       "model_id": "9a73bf2787584c1e8bacb560055c483b",
       "version_major": 2,
       "version_minor": 0
      },
      "text/plain": [
       "Loss:   0%|          | 0/151 [00:00<?, ?it/s]"
      ]
     },
     "metadata": {},
     "output_type": "display_data"
    },
    {
     "name": "stdout",
     "output_type": "stream",
     "text": [
      "Epoch 145/220, training loss: 2.8515538732736238e-05\n"
     ]
    },
    {
     "data": {
      "application/vnd.jupyter.widget-view+json": {
       "model_id": "cc1b4a687faa427f8303be8a5e4d70a4",
       "version_major": 2,
       "version_minor": 0
      },
      "text/plain": [
       "Loss:   0%|          | 0/151 [00:00<?, ?it/s]"
      ]
     },
     "metadata": {},
     "output_type": "display_data"
    },
    {
     "name": "stdout",
     "output_type": "stream",
     "text": [
      "Epoch 146/220, training loss: 2.335523264950977e-05\n"
     ]
    },
    {
     "data": {
      "application/vnd.jupyter.widget-view+json": {
       "model_id": "6448c77e551847a0ad9acfaafc36465d",
       "version_major": 2,
       "version_minor": 0
      },
      "text/plain": [
       "Loss:   0%|          | 0/151 [00:00<?, ?it/s]"
      ]
     },
     "metadata": {},
     "output_type": "display_data"
    },
    {
     "name": "stdout",
     "output_type": "stream",
     "text": [
      "Epoch 147/220, training loss: 5.156422301580513e-05\n"
     ]
    },
    {
     "data": {
      "application/vnd.jupyter.widget-view+json": {
       "model_id": "37fbfb481a794e69aa659a4207d7cc29",
       "version_major": 2,
       "version_minor": 0
      },
      "text/plain": [
       "Loss:   0%|          | 0/151 [00:00<?, ?it/s]"
      ]
     },
     "metadata": {},
     "output_type": "display_data"
    },
    {
     "name": "stdout",
     "output_type": "stream",
     "text": [
      "Epoch 148/220, training loss: 3.85549830168762e-05\n"
     ]
    },
    {
     "data": {
      "application/vnd.jupyter.widget-view+json": {
       "model_id": "1e7c5cdad86f481680263b0e6fab43cb",
       "version_major": 2,
       "version_minor": 0
      },
      "text/plain": [
       "Loss:   0%|          | 0/151 [00:00<?, ?it/s]"
      ]
     },
     "metadata": {},
     "output_type": "display_data"
    },
    {
     "name": "stdout",
     "output_type": "stream",
     "text": [
      "Epoch 149/220, training loss: 2.027326264691968e-05\n"
     ]
    },
    {
     "data": {
      "application/vnd.jupyter.widget-view+json": {
       "model_id": "64b46a315c9b49ecac8d69a78ec39ff8",
       "version_major": 2,
       "version_minor": 0
      },
      "text/plain": [
       "Loss:   0%|          | 0/151 [00:00<?, ?it/s]"
      ]
     },
     "metadata": {},
     "output_type": "display_data"
    },
    {
     "name": "stdout",
     "output_type": "stream",
     "text": [
      "Epoch 150/220, training loss: 2.6411701132898896e-05\n"
     ]
    },
    {
     "data": {
      "application/vnd.jupyter.widget-view+json": {
       "model_id": "e6c2f0bdaf804627ac8ee9bef698e366",
       "version_major": 2,
       "version_minor": 0
      },
      "text/plain": [
       "Loss:   0%|          | 0/151 [00:00<?, ?it/s]"
      ]
     },
     "metadata": {},
     "output_type": "display_data"
    },
    {
     "name": "stdout",
     "output_type": "stream",
     "text": [
      "Epoch 151/220, training loss: 6.487881148059868e-05\n"
     ]
    },
    {
     "data": {
      "application/vnd.jupyter.widget-view+json": {
       "model_id": "7f219ce51a78492e8a9855d3f70e6d4d",
       "version_major": 2,
       "version_minor": 0
      },
      "text/plain": [
       "Loss:   0%|          | 0/151 [00:00<?, ?it/s]"
      ]
     },
     "metadata": {},
     "output_type": "display_data"
    },
    {
     "name": "stdout",
     "output_type": "stream",
     "text": [
      "Epoch 152/220, training loss: 6.008352572027301e-05\n"
     ]
    },
    {
     "data": {
      "application/vnd.jupyter.widget-view+json": {
       "model_id": "af0d27053f014a1e8a60bd9ae0726dee",
       "version_major": 2,
       "version_minor": 0
      },
      "text/plain": [
       "Loss:   0%|          | 0/151 [00:00<?, ?it/s]"
      ]
     },
     "metadata": {},
     "output_type": "display_data"
    },
    {
     "name": "stdout",
     "output_type": "stream",
     "text": [
      "Epoch 153/220, training loss: 2.6177286306076273e-05\n"
     ]
    },
    {
     "data": {
      "application/vnd.jupyter.widget-view+json": {
       "model_id": "60c7068a796d4a64b068592ef20cf4ae",
       "version_major": 2,
       "version_minor": 0
      },
      "text/plain": [
       "Loss:   0%|          | 0/151 [00:00<?, ?it/s]"
      ]
     },
     "metadata": {},
     "output_type": "display_data"
    },
    {
     "name": "stdout",
     "output_type": "stream",
     "text": [
      "Epoch 154/220, training loss: 3.7980719178039785e-05\n"
     ]
    },
    {
     "data": {
      "application/vnd.jupyter.widget-view+json": {
       "model_id": "08524cd3289a48549196bdbfd214cabb",
       "version_major": 2,
       "version_minor": 0
      },
      "text/plain": [
       "Loss:   0%|          | 0/151 [00:00<?, ?it/s]"
      ]
     },
     "metadata": {},
     "output_type": "display_data"
    },
    {
     "name": "stdout",
     "output_type": "stream",
     "text": [
      "Epoch 155/220, training loss: 1.804692281451248e-05\n"
     ]
    },
    {
     "data": {
      "application/vnd.jupyter.widget-view+json": {
       "model_id": "5868f5d376c8485eb4e6a995f36c82b5",
       "version_major": 2,
       "version_minor": 0
      },
      "text/plain": [
       "Loss:   0%|          | 0/151 [00:00<?, ?it/s]"
      ]
     },
     "metadata": {},
     "output_type": "display_data"
    },
    {
     "name": "stdout",
     "output_type": "stream",
     "text": [
      "Epoch 156/220, training loss: 2.601298633590278e-05\n"
     ]
    },
    {
     "data": {
      "application/vnd.jupyter.widget-view+json": {
       "model_id": "5a65a3240d5746cb89b029ff61eb8634",
       "version_major": 2,
       "version_minor": 0
      },
      "text/plain": [
       "Loss:   0%|          | 0/151 [00:00<?, ?it/s]"
      ]
     },
     "metadata": {},
     "output_type": "display_data"
    },
    {
     "name": "stdout",
     "output_type": "stream",
     "text": [
      "Epoch 157/220, training loss: 2.4035082211316e-05\n"
     ]
    },
    {
     "data": {
      "application/vnd.jupyter.widget-view+json": {
       "model_id": "8dd7a1311bf44a36b7b861362744b494",
       "version_major": 2,
       "version_minor": 0
      },
      "text/plain": [
       "Loss:   0%|          | 0/151 [00:00<?, ?it/s]"
      ]
     },
     "metadata": {},
     "output_type": "display_data"
    },
    {
     "name": "stdout",
     "output_type": "stream",
     "text": [
      "Epoch 158/220, training loss: 1.4169253968278202e-05\n"
     ]
    },
    {
     "data": {
      "application/vnd.jupyter.widget-view+json": {
       "model_id": "239ed41be5144c7c8f18b70723764514",
       "version_major": 2,
       "version_minor": 0
      },
      "text/plain": [
       "Loss:   0%|          | 0/151 [00:00<?, ?it/s]"
      ]
     },
     "metadata": {},
     "output_type": "display_data"
    },
    {
     "name": "stdout",
     "output_type": "stream",
     "text": [
      "Epoch 159/220, training loss: 2.1500819000281406e-05\n"
     ]
    },
    {
     "data": {
      "application/vnd.jupyter.widget-view+json": {
       "model_id": "5160970fa7f74996b312a8f934078dd9",
       "version_major": 2,
       "version_minor": 0
      },
      "text/plain": [
       "Loss:   0%|          | 0/151 [00:00<?, ?it/s]"
      ]
     },
     "metadata": {},
     "output_type": "display_data"
    },
    {
     "name": "stdout",
     "output_type": "stream",
     "text": [
      "Epoch 160/220, training loss: 2.5119165400532352e-05\n"
     ]
    },
    {
     "data": {
      "application/vnd.jupyter.widget-view+json": {
       "model_id": "a8346408f58b42739ba26ffb496515d3",
       "version_major": 2,
       "version_minor": 0
      },
      "text/plain": [
       "Loss:   0%|          | 0/151 [00:00<?, ?it/s]"
      ]
     },
     "metadata": {},
     "output_type": "display_data"
    },
    {
     "name": "stdout",
     "output_type": "stream",
     "text": [
      "Epoch 161/220, training loss: 1.5260812174738442e-05\n"
     ]
    },
    {
     "data": {
      "application/vnd.jupyter.widget-view+json": {
       "model_id": "bbe64297d3844d77b183605b545b5cee",
       "version_major": 2,
       "version_minor": 0
      },
      "text/plain": [
       "Loss:   0%|          | 0/151 [00:00<?, ?it/s]"
      ]
     },
     "metadata": {},
     "output_type": "display_data"
    },
    {
     "name": "stdout",
     "output_type": "stream",
     "text": [
      "Epoch 162/220, training loss: 2.3972911847353833e-05\n"
     ]
    },
    {
     "data": {
      "application/vnd.jupyter.widget-view+json": {
       "model_id": "6f58e25f04a1454b89cf6cf82bcbe709",
       "version_major": 2,
       "version_minor": 0
      },
      "text/plain": [
       "Loss:   0%|          | 0/151 [00:00<?, ?it/s]"
      ]
     },
     "metadata": {},
     "output_type": "display_data"
    },
    {
     "name": "stdout",
     "output_type": "stream",
     "text": [
      "Epoch 163/220, training loss: 1.1361002620352813e-05\n"
     ]
    },
    {
     "data": {
      "application/vnd.jupyter.widget-view+json": {
       "model_id": "01ef115dc59b4f2eac23ff75dd94fa4d",
       "version_major": 2,
       "version_minor": 0
      },
      "text/plain": [
       "Loss:   0%|          | 0/151 [00:00<?, ?it/s]"
      ]
     },
     "metadata": {},
     "output_type": "display_data"
    },
    {
     "name": "stdout",
     "output_type": "stream",
     "text": [
      "Epoch 164/220, training loss: 4.892154991403425e-05\n"
     ]
    },
    {
     "data": {
      "application/vnd.jupyter.widget-view+json": {
       "model_id": "c29b7fd7b29f445084272b7de9191636",
       "version_major": 2,
       "version_minor": 0
      },
      "text/plain": [
       "Loss:   0%|          | 0/151 [00:00<?, ?it/s]"
      ]
     },
     "metadata": {},
     "output_type": "display_data"
    },
    {
     "name": "stdout",
     "output_type": "stream",
     "text": [
      "Epoch 165/220, training loss: 1.1179449572578442e-05\n"
     ]
    },
    {
     "data": {
      "application/vnd.jupyter.widget-view+json": {
       "model_id": "d3bfe1295a8d4220873362ea0ec357be",
       "version_major": 2,
       "version_minor": 0
      },
      "text/plain": [
       "Loss:   0%|          | 0/151 [00:00<?, ?it/s]"
      ]
     },
     "metadata": {},
     "output_type": "display_data"
    },
    {
     "name": "stdout",
     "output_type": "stream",
     "text": [
      "Epoch 166/220, training loss: 1.2127224691774499e-05\n"
     ]
    },
    {
     "data": {
      "application/vnd.jupyter.widget-view+json": {
       "model_id": "f493e32ca3cb49bfb9596b9d74ebe7ed",
       "version_major": 2,
       "version_minor": 0
      },
      "text/plain": [
       "Loss:   0%|          | 0/151 [00:00<?, ?it/s]"
      ]
     },
     "metadata": {},
     "output_type": "display_data"
    },
    {
     "name": "stdout",
     "output_type": "stream",
     "text": [
      "Epoch 167/220, training loss: 1.3299906087519313e-05\n"
     ]
    },
    {
     "data": {
      "application/vnd.jupyter.widget-view+json": {
       "model_id": "b59433b2a67e4a07a705975a37b6f24b",
       "version_major": 2,
       "version_minor": 0
      },
      "text/plain": [
       "Loss:   0%|          | 0/151 [00:00<?, ?it/s]"
      ]
     },
     "metadata": {},
     "output_type": "display_data"
    },
    {
     "name": "stdout",
     "output_type": "stream",
     "text": [
      "Epoch 168/220, training loss: 3.243091653708111e-05\n"
     ]
    },
    {
     "data": {
      "application/vnd.jupyter.widget-view+json": {
       "model_id": "3195cf6d95a44f8591a71814b51dd75a",
       "version_major": 2,
       "version_minor": 0
      },
      "text/plain": [
       "Loss:   0%|          | 0/151 [00:00<?, ?it/s]"
      ]
     },
     "metadata": {},
     "output_type": "display_data"
    },
    {
     "name": "stdout",
     "output_type": "stream",
     "text": [
      "Epoch 169/220, training loss: 1.622142365068907e-05\n"
     ]
    },
    {
     "data": {
      "application/vnd.jupyter.widget-view+json": {
       "model_id": "139674978f8b4622bac2e916d5adc6ca",
       "version_major": 2,
       "version_minor": 0
      },
      "text/plain": [
       "Loss:   0%|          | 0/151 [00:00<?, ?it/s]"
      ]
     },
     "metadata": {},
     "output_type": "display_data"
    },
    {
     "name": "stdout",
     "output_type": "stream",
     "text": [
      "Epoch 170/220, training loss: 1.655610820997279e-05\n"
     ]
    },
    {
     "data": {
      "application/vnd.jupyter.widget-view+json": {
       "model_id": "d47e60db24e54307b25c2db812b88315",
       "version_major": 2,
       "version_minor": 0
      },
      "text/plain": [
       "Loss:   0%|          | 0/151 [00:00<?, ?it/s]"
      ]
     },
     "metadata": {},
     "output_type": "display_data"
    },
    {
     "name": "stdout",
     "output_type": "stream",
     "text": [
      "Epoch 171/220, training loss: 1.2468537645433167e-05\n"
     ]
    },
    {
     "data": {
      "application/vnd.jupyter.widget-view+json": {
       "model_id": "77f5a59591ee47e9a821a001f3adb616",
       "version_major": 2,
       "version_minor": 0
      },
      "text/plain": [
       "Loss:   0%|          | 0/151 [00:00<?, ?it/s]"
      ]
     },
     "metadata": {},
     "output_type": "display_data"
    },
    {
     "name": "stdout",
     "output_type": "stream",
     "text": [
      "Epoch 172/220, training loss: 1.3090839283844412e-05\n"
     ]
    },
    {
     "data": {
      "application/vnd.jupyter.widget-view+json": {
       "model_id": "89ea4521f44640438a4c1318f6effad4",
       "version_major": 2,
       "version_minor": 0
      },
      "text/plain": [
       "Loss:   0%|          | 0/151 [00:00<?, ?it/s]"
      ]
     },
     "metadata": {},
     "output_type": "display_data"
    },
    {
     "name": "stdout",
     "output_type": "stream",
     "text": [
      "Epoch 173/220, training loss: 2.2628310296640366e-05\n"
     ]
    },
    {
     "data": {
      "application/vnd.jupyter.widget-view+json": {
       "model_id": "c12ddf2dcb0e45909f15dd276457a368",
       "version_major": 2,
       "version_minor": 0
      },
      "text/plain": [
       "Loss:   0%|          | 0/151 [00:00<?, ?it/s]"
      ]
     },
     "metadata": {},
     "output_type": "display_data"
    },
    {
     "name": "stdout",
     "output_type": "stream",
     "text": [
      "Epoch 174/220, training loss: 8.321577327204683e-06\n"
     ]
    },
    {
     "data": {
      "application/vnd.jupyter.widget-view+json": {
       "model_id": "1c2623ed29b54339bcefd3dfd8d19aff",
       "version_major": 2,
       "version_minor": 0
      },
      "text/plain": [
       "Loss:   0%|          | 0/151 [00:00<?, ?it/s]"
      ]
     },
     "metadata": {},
     "output_type": "display_data"
    },
    {
     "name": "stdout",
     "output_type": "stream",
     "text": [
      "Epoch 175/220, training loss: 9.797278476944725e-06\n"
     ]
    },
    {
     "data": {
      "application/vnd.jupyter.widget-view+json": {
       "model_id": "ea02125fa8b649fc9d4cced1f3a2682b",
       "version_major": 2,
       "version_minor": 0
      },
      "text/plain": [
       "Loss:   0%|          | 0/151 [00:00<?, ?it/s]"
      ]
     },
     "metadata": {},
     "output_type": "display_data"
    },
    {
     "name": "stdout",
     "output_type": "stream",
     "text": [
      "Epoch 176/220, training loss: 1.0632219109297784e-05\n"
     ]
    },
    {
     "data": {
      "application/vnd.jupyter.widget-view+json": {
       "model_id": "6e03cab69aeb4803bf89af1f124d2a21",
       "version_major": 2,
       "version_minor": 0
      },
      "text/plain": [
       "Loss:   0%|          | 0/151 [00:00<?, ?it/s]"
      ]
     },
     "metadata": {},
     "output_type": "display_data"
    },
    {
     "name": "stdout",
     "output_type": "stream",
     "text": [
      "Epoch 177/220, training loss: 9.644597135573482e-06\n"
     ]
    },
    {
     "data": {
      "application/vnd.jupyter.widget-view+json": {
       "model_id": "d2504bed517341e892e4e6643d199adb",
       "version_major": 2,
       "version_minor": 0
      },
      "text/plain": [
       "Loss:   0%|          | 0/151 [00:00<?, ?it/s]"
      ]
     },
     "metadata": {},
     "output_type": "display_data"
    },
    {
     "name": "stdout",
     "output_type": "stream",
     "text": [
      "Epoch 178/220, training loss: 9.583037254495573e-06\n"
     ]
    },
    {
     "data": {
      "application/vnd.jupyter.widget-view+json": {
       "model_id": "63aeb15ab28846b5a72a67b07f24cb3e",
       "version_major": 2,
       "version_minor": 0
      },
      "text/plain": [
       "Loss:   0%|          | 0/151 [00:00<?, ?it/s]"
      ]
     },
     "metadata": {},
     "output_type": "display_data"
    },
    {
     "name": "stdout",
     "output_type": "stream",
     "text": [
      "Epoch 179/220, training loss: 9.146693298890682e-06\n"
     ]
    },
    {
     "data": {
      "application/vnd.jupyter.widget-view+json": {
       "model_id": "9ae75ccf66bf47d0abaf4e0151d3c7f0",
       "version_major": 2,
       "version_minor": 0
      },
      "text/plain": [
       "Loss:   0%|          | 0/151 [00:00<?, ?it/s]"
      ]
     },
     "metadata": {},
     "output_type": "display_data"
    },
    {
     "name": "stdout",
     "output_type": "stream",
     "text": [
      "Epoch 180/220, training loss: 8.695766990853529e-06\n"
     ]
    },
    {
     "data": {
      "application/vnd.jupyter.widget-view+json": {
       "model_id": "26795475f8b44c8ebe1d643152098c10",
       "version_major": 2,
       "version_minor": 0
      },
      "text/plain": [
       "Loss:   0%|          | 0/151 [00:00<?, ?it/s]"
      ]
     },
     "metadata": {},
     "output_type": "display_data"
    },
    {
     "name": "stdout",
     "output_type": "stream",
     "text": [
      "Epoch 181/220, training loss: 1.2465381241811986e-05\n"
     ]
    },
    {
     "data": {
      "application/vnd.jupyter.widget-view+json": {
       "model_id": "2d025b8fcb6e4662a84b3124e315b06d",
       "version_major": 2,
       "version_minor": 0
      },
      "text/plain": [
       "Loss:   0%|          | 0/151 [00:00<?, ?it/s]"
      ]
     },
     "metadata": {},
     "output_type": "display_data"
    },
    {
     "name": "stdout",
     "output_type": "stream",
     "text": [
      "Epoch 182/220, training loss: 1.1108755559039099e-05\n"
     ]
    },
    {
     "data": {
      "application/vnd.jupyter.widget-view+json": {
       "model_id": "74c82233da8c4be4b18a71b4fc298b3c",
       "version_major": 2,
       "version_minor": 0
      },
      "text/plain": [
       "Loss:   0%|          | 0/151 [00:00<?, ?it/s]"
      ]
     },
     "metadata": {},
     "output_type": "display_data"
    },
    {
     "name": "stdout",
     "output_type": "stream",
     "text": [
      "Epoch 183/220, training loss: 5.617530749737094e-06\n"
     ]
    },
    {
     "data": {
      "application/vnd.jupyter.widget-view+json": {
       "model_id": "fb6424e0ab3548df99b35ce793cc1d91",
       "version_major": 2,
       "version_minor": 0
      },
      "text/plain": [
       "Loss:   0%|          | 0/151 [00:00<?, ?it/s]"
      ]
     },
     "metadata": {},
     "output_type": "display_data"
    },
    {
     "name": "stdout",
     "output_type": "stream",
     "text": [
      "Epoch 184/220, training loss: 7.1518833749827455e-06\n"
     ]
    },
    {
     "data": {
      "application/vnd.jupyter.widget-view+json": {
       "model_id": "f6d64bf533894dacb825b9f2b298cb7c",
       "version_major": 2,
       "version_minor": 0
      },
      "text/plain": [
       "Loss:   0%|          | 0/151 [00:00<?, ?it/s]"
      ]
     },
     "metadata": {},
     "output_type": "display_data"
    },
    {
     "name": "stdout",
     "output_type": "stream",
     "text": [
      "Epoch 185/220, training loss: 6.194867885234083e-06\n"
     ]
    },
    {
     "data": {
      "application/vnd.jupyter.widget-view+json": {
       "model_id": "ba7e0cf006e342b58af6c27a7d507b60",
       "version_major": 2,
       "version_minor": 0
      },
      "text/plain": [
       "Loss:   0%|          | 0/151 [00:00<?, ?it/s]"
      ]
     },
     "metadata": {},
     "output_type": "display_data"
    },
    {
     "name": "stdout",
     "output_type": "stream",
     "text": [
      "Epoch 186/220, training loss: 1.0272377491767338e-05\n"
     ]
    },
    {
     "data": {
      "application/vnd.jupyter.widget-view+json": {
       "model_id": "472eb6da9ff94f0f87182535e5337445",
       "version_major": 2,
       "version_minor": 0
      },
      "text/plain": [
       "Loss:   0%|          | 0/151 [00:00<?, ?it/s]"
      ]
     },
     "metadata": {},
     "output_type": "display_data"
    },
    {
     "name": "stdout",
     "output_type": "stream",
     "text": [
      "Epoch 187/220, training loss: 1.0205628435213063e-05\n"
     ]
    },
    {
     "data": {
      "application/vnd.jupyter.widget-view+json": {
       "model_id": "61575209abb44929ad4a196e3d3d92ea",
       "version_major": 2,
       "version_minor": 0
      },
      "text/plain": [
       "Loss:   0%|          | 0/151 [00:00<?, ?it/s]"
      ]
     },
     "metadata": {},
     "output_type": "display_data"
    },
    {
     "name": "stdout",
     "output_type": "stream",
     "text": [
      "Epoch 188/220, training loss: 7.227067500621732e-06\n"
     ]
    },
    {
     "data": {
      "application/vnd.jupyter.widget-view+json": {
       "model_id": "d4f2dbddea8e49098c6ad8fd9defffa1",
       "version_major": 2,
       "version_minor": 0
      },
      "text/plain": [
       "Loss:   0%|          | 0/151 [00:00<?, ?it/s]"
      ]
     },
     "metadata": {},
     "output_type": "display_data"
    },
    {
     "name": "stdout",
     "output_type": "stream",
     "text": [
      "Epoch 189/220, training loss: 5.953404196278771e-06\n"
     ]
    },
    {
     "data": {
      "application/vnd.jupyter.widget-view+json": {
       "model_id": "4fb7e850cdd04636baa28448b27026fa",
       "version_major": 2,
       "version_minor": 0
      },
      "text/plain": [
       "Loss:   0%|          | 0/151 [00:00<?, ?it/s]"
      ]
     },
     "metadata": {},
     "output_type": "display_data"
    },
    {
     "name": "stdout",
     "output_type": "stream",
     "text": [
      "Epoch 190/220, training loss: 6.104419206706293e-06\n"
     ]
    },
    {
     "data": {
      "application/vnd.jupyter.widget-view+json": {
       "model_id": "b7309213e4654fd1931368d4a6abc682",
       "version_major": 2,
       "version_minor": 0
      },
      "text/plain": [
       "Loss:   0%|          | 0/151 [00:00<?, ?it/s]"
      ]
     },
     "metadata": {},
     "output_type": "display_data"
    },
    {
     "name": "stdout",
     "output_type": "stream",
     "text": [
      "Epoch 191/220, training loss: 8.597565163244934e-06\n"
     ]
    },
    {
     "data": {
      "application/vnd.jupyter.widget-view+json": {
       "model_id": "57e47c5899fe45238c93986659a9a040",
       "version_major": 2,
       "version_minor": 0
      },
      "text/plain": [
       "Loss:   0%|          | 0/151 [00:00<?, ?it/s]"
      ]
     },
     "metadata": {},
     "output_type": "display_data"
    },
    {
     "name": "stdout",
     "output_type": "stream",
     "text": [
      "Epoch 192/220, training loss: 5.984554389438047e-06\n"
     ]
    },
    {
     "data": {
      "application/vnd.jupyter.widget-view+json": {
       "model_id": "a0aba71cdb854cbd93618d1b5da48021",
       "version_major": 2,
       "version_minor": 0
      },
      "text/plain": [
       "Loss:   0%|          | 0/151 [00:00<?, ?it/s]"
      ]
     },
     "metadata": {},
     "output_type": "display_data"
    },
    {
     "name": "stdout",
     "output_type": "stream",
     "text": [
      "Epoch 193/220, training loss: 6.752455973829932e-06\n"
     ]
    },
    {
     "data": {
      "application/vnd.jupyter.widget-view+json": {
       "model_id": "a1925d3c640f460881080e267274936c",
       "version_major": 2,
       "version_minor": 0
      },
      "text/plain": [
       "Loss:   0%|          | 0/151 [00:00<?, ?it/s]"
      ]
     },
     "metadata": {},
     "output_type": "display_data"
    },
    {
     "name": "stdout",
     "output_type": "stream",
     "text": [
      "Epoch 194/220, training loss: 6.185296309537224e-06\n"
     ]
    },
    {
     "data": {
      "application/vnd.jupyter.widget-view+json": {
       "model_id": "8c5915eb32ad46edbd5ee4bb57a6c5f9",
       "version_major": 2,
       "version_minor": 0
      },
      "text/plain": [
       "Loss:   0%|          | 0/151 [00:00<?, ?it/s]"
      ]
     },
     "metadata": {},
     "output_type": "display_data"
    },
    {
     "name": "stdout",
     "output_type": "stream",
     "text": [
      "Epoch 195/220, training loss: 5.8600109522353554e-06\n"
     ]
    },
    {
     "data": {
      "application/vnd.jupyter.widget-view+json": {
       "model_id": "a68746e234bc45cdbf3adf4e555b9279",
       "version_major": 2,
       "version_minor": 0
      },
      "text/plain": [
       "Loss:   0%|          | 0/151 [00:00<?, ?it/s]"
      ]
     },
     "metadata": {},
     "output_type": "display_data"
    },
    {
     "name": "stdout",
     "output_type": "stream",
     "text": [
      "Epoch 196/220, training loss: 5.633618806410559e-06\n"
     ]
    },
    {
     "data": {
      "application/vnd.jupyter.widget-view+json": {
       "model_id": "3a5ba0e255d04cb0a83121c9a6d26b33",
       "version_major": 2,
       "version_minor": 0
      },
      "text/plain": [
       "Loss:   0%|          | 0/151 [00:00<?, ?it/s]"
      ]
     },
     "metadata": {},
     "output_type": "display_data"
    },
    {
     "name": "stdout",
     "output_type": "stream",
     "text": [
      "Epoch 197/220, training loss: 4.624595059617273e-06\n"
     ]
    },
    {
     "data": {
      "application/vnd.jupyter.widget-view+json": {
       "model_id": "6dd1564c666543549ea2fad2092993a7",
       "version_major": 2,
       "version_minor": 0
      },
      "text/plain": [
       "Loss:   0%|          | 0/151 [00:00<?, ?it/s]"
      ]
     },
     "metadata": {},
     "output_type": "display_data"
    },
    {
     "name": "stdout",
     "output_type": "stream",
     "text": [
      "Epoch 198/220, training loss: 5.608684812091721e-06\n"
     ]
    },
    {
     "data": {
      "application/vnd.jupyter.widget-view+json": {
       "model_id": "2b842b93596f4a30a1ec5b3a32cf0066",
       "version_major": 2,
       "version_minor": 0
      },
      "text/plain": [
       "Loss:   0%|          | 0/151 [00:00<?, ?it/s]"
      ]
     },
     "metadata": {},
     "output_type": "display_data"
    },
    {
     "name": "stdout",
     "output_type": "stream",
     "text": [
      "Epoch 199/220, training loss: 4.275273401854005e-06\n"
     ]
    },
    {
     "data": {
      "application/vnd.jupyter.widget-view+json": {
       "model_id": "ac1c1196fa1244afadef9b12dea2e562",
       "version_major": 2,
       "version_minor": 0
      },
      "text/plain": [
       "Loss:   0%|          | 0/151 [00:00<?, ?it/s]"
      ]
     },
     "metadata": {},
     "output_type": "display_data"
    },
    {
     "name": "stdout",
     "output_type": "stream",
     "text": [
      "Epoch 200/220, training loss: 4.5214349518646e-06\n"
     ]
    },
    {
     "data": {
      "application/vnd.jupyter.widget-view+json": {
       "model_id": "f64903bcc03241b19806c3affc3805f9",
       "version_major": 2,
       "version_minor": 0
      },
      "text/plain": [
       "Loss:   0%|          | 0/151 [00:00<?, ?it/s]"
      ]
     },
     "metadata": {},
     "output_type": "display_data"
    },
    {
     "name": "stdout",
     "output_type": "stream",
     "text": [
      "Epoch 201/220, training loss: 3.466876353738088e-06\n"
     ]
    },
    {
     "data": {
      "application/vnd.jupyter.widget-view+json": {
       "model_id": "7f97169ebc964457b0c7ff0ce17c98f8",
       "version_major": 2,
       "version_minor": 0
      },
      "text/plain": [
       "Loss:   0%|          | 0/151 [00:00<?, ?it/s]"
      ]
     },
     "metadata": {},
     "output_type": "display_data"
    },
    {
     "name": "stdout",
     "output_type": "stream",
     "text": [
      "Epoch 202/220, training loss: 3.125705603302861e-06\n"
     ]
    },
    {
     "data": {
      "application/vnd.jupyter.widget-view+json": {
       "model_id": "dd9c4f273b374282b69a1331e6550569",
       "version_major": 2,
       "version_minor": 0
      },
      "text/plain": [
       "Loss:   0%|          | 0/151 [00:00<?, ?it/s]"
      ]
     },
     "metadata": {},
     "output_type": "display_data"
    },
    {
     "name": "stdout",
     "output_type": "stream",
     "text": [
      "Epoch 203/220, training loss: 3.4418851233667076e-06\n"
     ]
    },
    {
     "data": {
      "application/vnd.jupyter.widget-view+json": {
       "model_id": "88575fb5bb9649eb9fa95d799522b7b4",
       "version_major": 2,
       "version_minor": 0
      },
      "text/plain": [
       "Loss:   0%|          | 0/151 [00:00<?, ?it/s]"
      ]
     },
     "metadata": {},
     "output_type": "display_data"
    },
    {
     "name": "stdout",
     "output_type": "stream",
     "text": [
      "Epoch 204/220, training loss: 3.212238688612335e-06\n"
     ]
    },
    {
     "data": {
      "application/vnd.jupyter.widget-view+json": {
       "model_id": "496f41da588a426ca73a4ec7054103c2",
       "version_major": 2,
       "version_minor": 0
      },
      "text/plain": [
       "Loss:   0%|          | 0/151 [00:00<?, ?it/s]"
      ]
     },
     "metadata": {},
     "output_type": "display_data"
    },
    {
     "name": "stdout",
     "output_type": "stream",
     "text": [
      "Epoch 205/220, training loss: 2.564398530075356e-06\n"
     ]
    },
    {
     "data": {
      "application/vnd.jupyter.widget-view+json": {
       "model_id": "fcad09053c2441cea7b391a1fed08acb",
       "version_major": 2,
       "version_minor": 0
      },
      "text/plain": [
       "Loss:   0%|          | 0/151 [00:00<?, ?it/s]"
      ]
     },
     "metadata": {},
     "output_type": "display_data"
    },
    {
     "name": "stdout",
     "output_type": "stream",
     "text": [
      "Epoch 206/220, training loss: 2.8312046528892385e-06\n"
     ]
    },
    {
     "data": {
      "application/vnd.jupyter.widget-view+json": {
       "model_id": "cc2415e3451e46fba62fe991301c821c",
       "version_major": 2,
       "version_minor": 0
      },
      "text/plain": [
       "Loss:   0%|          | 0/151 [00:00<?, ?it/s]"
      ]
     },
     "metadata": {},
     "output_type": "display_data"
    },
    {
     "name": "stdout",
     "output_type": "stream",
     "text": [
      "Epoch 207/220, training loss: 3.5953646645429524e-06\n"
     ]
    },
    {
     "data": {
      "application/vnd.jupyter.widget-view+json": {
       "model_id": "f1b5204c8f2b4cc0953913c64031a899",
       "version_major": 2,
       "version_minor": 0
      },
      "text/plain": [
       "Loss:   0%|          | 0/151 [00:00<?, ?it/s]"
      ]
     },
     "metadata": {},
     "output_type": "display_data"
    },
    {
     "name": "stdout",
     "output_type": "stream",
     "text": [
      "Epoch 208/220, training loss: 3.171982227372037e-06\n"
     ]
    },
    {
     "data": {
      "application/vnd.jupyter.widget-view+json": {
       "model_id": "a6a151243b494c61b747a7aa0a66539d",
       "version_major": 2,
       "version_minor": 0
      },
      "text/plain": [
       "Loss:   0%|          | 0/151 [00:00<?, ?it/s]"
      ]
     },
     "metadata": {},
     "output_type": "display_data"
    },
    {
     "name": "stdout",
     "output_type": "stream",
     "text": [
      "Epoch 209/220, training loss: 5.08922560464614e-06\n"
     ]
    },
    {
     "data": {
      "application/vnd.jupyter.widget-view+json": {
       "model_id": "3cdbf0ba057541fd923645b5dc871714",
       "version_major": 2,
       "version_minor": 0
      },
      "text/plain": [
       "Loss:   0%|          | 0/151 [00:00<?, ?it/s]"
      ]
     },
     "metadata": {},
     "output_type": "display_data"
    },
    {
     "name": "stdout",
     "output_type": "stream",
     "text": [
      "Epoch 210/220, training loss: 2.9781578345685055e-06\n"
     ]
    },
    {
     "data": {
      "application/vnd.jupyter.widget-view+json": {
       "model_id": "c8cb669a29d6470386ae79f179566a49",
       "version_major": 2,
       "version_minor": 0
      },
      "text/plain": [
       "Loss:   0%|          | 0/151 [00:00<?, ?it/s]"
      ]
     },
     "metadata": {},
     "output_type": "display_data"
    },
    {
     "name": "stdout",
     "output_type": "stream",
     "text": [
      "Epoch 211/220, training loss: 2.046930955660456e-06\n"
     ]
    },
    {
     "data": {
      "application/vnd.jupyter.widget-view+json": {
       "model_id": "d6477973500e45999db2ba77cbcd62ae",
       "version_major": 2,
       "version_minor": 0
      },
      "text/plain": [
       "Loss:   0%|          | 0/151 [00:00<?, ?it/s]"
      ]
     },
     "metadata": {},
     "output_type": "display_data"
    },
    {
     "name": "stdout",
     "output_type": "stream",
     "text": [
      "Epoch 212/220, training loss: 4.032703078632497e-06\n"
     ]
    },
    {
     "data": {
      "application/vnd.jupyter.widget-view+json": {
       "model_id": "de678aaac22445168128697e21f9f6dc",
       "version_major": 2,
       "version_minor": 0
      },
      "text/plain": [
       "Loss:   0%|          | 0/151 [00:00<?, ?it/s]"
      ]
     },
     "metadata": {},
     "output_type": "display_data"
    },
    {
     "name": "stdout",
     "output_type": "stream",
     "text": [
      "Epoch 213/220, training loss: 2.941913517163914e-06\n"
     ]
    },
    {
     "data": {
      "application/vnd.jupyter.widget-view+json": {
       "model_id": "4be56bcd5ab94587bfadbec09092c311",
       "version_major": 2,
       "version_minor": 0
      },
      "text/plain": [
       "Loss:   0%|          | 0/151 [00:00<?, ?it/s]"
      ]
     },
     "metadata": {},
     "output_type": "display_data"
    },
    {
     "name": "stdout",
     "output_type": "stream",
     "text": [
      "Epoch 214/220, training loss: 3.2504451174556668e-06\n"
     ]
    },
    {
     "data": {
      "application/vnd.jupyter.widget-view+json": {
       "model_id": "fb28a7648df846458c629df9e4b91701",
       "version_major": 2,
       "version_minor": 0
      },
      "text/plain": [
       "Loss:   0%|          | 0/151 [00:00<?, ?it/s]"
      ]
     },
     "metadata": {},
     "output_type": "display_data"
    },
    {
     "name": "stdout",
     "output_type": "stream",
     "text": [
      "Epoch 215/220, training loss: 3.1177227298265534e-06\n"
     ]
    },
    {
     "data": {
      "application/vnd.jupyter.widget-view+json": {
       "model_id": "8fca0d27cf624b998484eaa723e412d9",
       "version_major": 2,
       "version_minor": 0
      },
      "text/plain": [
       "Loss:   0%|          | 0/151 [00:00<?, ?it/s]"
      ]
     },
     "metadata": {},
     "output_type": "display_data"
    },
    {
     "name": "stdout",
     "output_type": "stream",
     "text": [
      "Epoch 216/220, training loss: 2.74298728785598e-06\n"
     ]
    },
    {
     "data": {
      "application/vnd.jupyter.widget-view+json": {
       "model_id": "75d65ec445cb40cda2bca44be14a2b54",
       "version_major": 2,
       "version_minor": 0
      },
      "text/plain": [
       "Loss:   0%|          | 0/151 [00:00<?, ?it/s]"
      ]
     },
     "metadata": {},
     "output_type": "display_data"
    },
    {
     "name": "stdout",
     "output_type": "stream",
     "text": [
      "Epoch 217/220, training loss: 5.347809967445496e-06\n"
     ]
    },
    {
     "data": {
      "application/vnd.jupyter.widget-view+json": {
       "model_id": "fa7f28cfb9d1425c9e7d3de3877f30b7",
       "version_major": 2,
       "version_minor": 0
      },
      "text/plain": [
       "Loss:   0%|          | 0/151 [00:00<?, ?it/s]"
      ]
     },
     "metadata": {},
     "output_type": "display_data"
    },
    {
     "name": "stdout",
     "output_type": "stream",
     "text": [
      "Epoch 218/220, training loss: 3.0437008868432634e-06\n"
     ]
    },
    {
     "data": {
      "application/vnd.jupyter.widget-view+json": {
       "model_id": "c9aebd7210534c1ea0817fab3914f793",
       "version_major": 2,
       "version_minor": 0
      },
      "text/plain": [
       "Loss:   0%|          | 0/151 [00:00<?, ?it/s]"
      ]
     },
     "metadata": {},
     "output_type": "display_data"
    },
    {
     "name": "stdout",
     "output_type": "stream",
     "text": [
      "Epoch 219/220, training loss: 2.9352131366221216e-06\n"
     ]
    },
    {
     "data": {
      "application/vnd.jupyter.widget-view+json": {
       "model_id": "9fe0b3ffd51f4cb992e41b79fd83a7f8",
       "version_major": 2,
       "version_minor": 0
      },
      "text/plain": [
       "Loss:   0%|          | 0/151 [00:00<?, ?it/s]"
      ]
     },
     "metadata": {},
     "output_type": "display_data"
    },
    {
     "name": "stdout",
     "output_type": "stream",
     "text": [
      "Epoch 220/220, training loss: 1.839284609864321e-05\n"
     ]
    },
    {
     "ename": "NameError",
     "evalue": "name 'y_pred_cnn' is not defined",
     "output_type": "error",
     "traceback": [
      "\u001b[0;31m---------------------------------------------------------------------------\u001b[0m",
      "\u001b[0;31mNameError\u001b[0m                                 Traceback (most recent call last)",
      "Cell \u001b[0;32mIn [54], line 33\u001b[0m\n\u001b[1;32m     29\u001b[0m model\u001b[38;5;241m.\u001b[39meval()\n\u001b[1;32m     30\u001b[0m preds_cnn \u001b[38;5;241m=\u001b[39m predict(model, image_val_loader)\n\u001b[0;32m---> 33\u001b[0m df_predictions[\u001b[38;5;124m'\u001b[39m\u001b[38;5;124mresnet\u001b[39m\u001b[38;5;124m'\u001b[39m] \u001b[38;5;241m=\u001b[39m \u001b[43my_pred_cnn\u001b[49m\n\u001b[1;32m     34\u001b[0m torch\u001b[38;5;241m.\u001b[39msave(model\u001b[38;5;241m.\u001b[39mstate_dict(), \u001b[38;5;124m'\u001b[39m\u001b[38;5;124mweights_only_resnet.pth\u001b[39m\u001b[38;5;124m'\u001b[39m)\n",
      "\u001b[0;31mNameError\u001b[0m: name 'y_pred_cnn' is not defined"
     ]
    }
   ],
   "source": [
    "\n",
    "X = train_images\n",
    "y=df_train['target'].values\n",
    "\n",
    "X_test = test_images\n",
    "\n",
    "image_train_loader = make_train_loader(X, y, input_shape=(-1, 1,73, 73), batch_size=32)\n",
    "\n",
    "image_val_loader = make_test_loader(X_test, input_shape=(-1, 1,73, 73), batch_size=32, method='test')\n",
    "\n",
    "random_init(SEED)\n",
    "\n",
    "resnet_18 =  models.resnet18()\n",
    "resnet_18.conv1 = nn.Conv2d(1, 64, kernel_size=(7, 7), stride=(2, 2), padding=(3, 3), bias=False)\n",
    "features=list(resnet_18.children())[:-4]\n",
    "resnet_18=nn.Sequential(*features)\n",
    "resnet_18.avgpool= nn.AdaptiveAvgPool2d(output_size=(1, 1))\n",
    "\n",
    "\n",
    "optimizer = optim.Adam(resnet_18.parameters(), lr=0.001, betas=(0.9, 0.99))\n",
    "#weights = [5.9619, 0.017]  # epoch=60 weights=[0.017, 4.9619]\n",
    "\n",
    "scheduler = lr_scheduler.StepLR(optimizer, step_size=7, gamma=0.9)\n",
    "\n",
    "resnet = ModelResnet(resnet_18)\n",
    "model = train(resnet, train_loader=image_train_loader, epochs=220, \n",
    "                                          loss_function=nn.CrossEntropyLoss(),\n",
    "         optimizer=optimizer, scheduler=scheduler)\n",
    "\n",
    "model.eval()\n",
    "preds_cnn = predict(model, image_val_loader)\n",
    "\n",
    "\n",
    "df_predictions['resnet'] = preds_cnn\n",
    "torch.save(model.state_dict(), 'weights_only_resnet.pth')"
   ]
  },
  {
   "cell_type": "code",
   "execution_count": 55,
   "metadata": {},
   "outputs": [],
   "source": [
    "df_predictions['resnet'] = preds_cnn"
   ]
  },
  {
   "cell_type": "code",
   "execution_count": null,
   "metadata": {},
   "outputs": [],
   "source": [
    "torch.cuda.empty_cache()"
   ]
  },
  {
   "cell_type": "markdown",
   "metadata": {},
   "source": [
    "## Submit"
   ]
  },
  {
   "cell_type": "code",
   "execution_count": 56,
   "metadata": {},
   "outputs": [],
   "source": [
    "filename = 'sample_solution.csv'\n",
    "\n",
    "submission = pd.read_csv(filename)\n",
    "\n",
    "df_predictions['t'] = df_predictions.apply(lambda x: int(x.value_counts().index[0]), axis=1)\n",
    "\n",
    "\n",
    "submission['crop'] = df_predictions['t']\n",
    "submission.to_csv('./my_submission.csv', index=False)\n",
    "\n",
    "\n",
    "\n",
    "\n",
    "\n",
    "# cl.fit(X, y)\n",
    "\n",
    "# pred = cl.predict(df_dist_test)\n",
    "\n",
    "# filename = 'sample_solution.csv'\n",
    "\n",
    "# submission = pd.read_csv(filename)\n",
    "\n",
    "# submission['crop'] = pred\n",
    "# submission.to_csv('./my_submission.csv', index=False)"
   ]
  },
  {
   "cell_type": "code",
   "execution_count": 57,
   "metadata": {},
   "outputs": [
    {
     "data": {
      "text/html": [
       "<div>\n",
       "<style scoped>\n",
       "    .dataframe tbody tr th:only-of-type {\n",
       "        vertical-align: middle;\n",
       "    }\n",
       "\n",
       "    .dataframe tbody tr th {\n",
       "        vertical-align: top;\n",
       "    }\n",
       "\n",
       "    .dataframe thead th {\n",
       "        text-align: right;\n",
       "    }\n",
       "</style>\n",
       "<table border=\"1\" class=\"dataframe\">\n",
       "  <thead>\n",
       "    <tr style=\"text-align: right;\">\n",
       "      <th></th>\n",
       "      <th>id</th>\n",
       "      <th>lgbm_1</th>\n",
       "      <th>lgbm_2</th>\n",
       "      <th>lgbm_3</th>\n",
       "      <th>lgbm_4</th>\n",
       "      <th>resnet</th>\n",
       "      <th>t</th>\n",
       "    </tr>\n",
       "  </thead>\n",
       "  <tbody>\n",
       "    <tr>\n",
       "      <th>0</th>\n",
       "      <td>611</td>\n",
       "      <td>3</td>\n",
       "      <td>3</td>\n",
       "      <td>3</td>\n",
       "      <td>3</td>\n",
       "      <td>3</td>\n",
       "      <td>3</td>\n",
       "    </tr>\n",
       "    <tr>\n",
       "      <th>1</th>\n",
       "      <td>6417</td>\n",
       "      <td>2</td>\n",
       "      <td>2</td>\n",
       "      <td>2</td>\n",
       "      <td>2</td>\n",
       "      <td>2</td>\n",
       "      <td>2</td>\n",
       "    </tr>\n",
       "    <tr>\n",
       "      <th>2</th>\n",
       "      <td>3352</td>\n",
       "      <td>3</td>\n",
       "      <td>3</td>\n",
       "      <td>3</td>\n",
       "      <td>3</td>\n",
       "      <td>3</td>\n",
       "      <td>3</td>\n",
       "    </tr>\n",
       "    <tr>\n",
       "      <th>3</th>\n",
       "      <td>4224</td>\n",
       "      <td>1</td>\n",
       "      <td>1</td>\n",
       "      <td>1</td>\n",
       "      <td>1</td>\n",
       "      <td>1</td>\n",
       "      <td>1</td>\n",
       "    </tr>\n",
       "    <tr>\n",
       "      <th>4</th>\n",
       "      <td>3102</td>\n",
       "      <td>6</td>\n",
       "      <td>6</td>\n",
       "      <td>6</td>\n",
       "      <td>6</td>\n",
       "      <td>6</td>\n",
       "      <td>6</td>\n",
       "    </tr>\n",
       "    <tr>\n",
       "      <th>...</th>\n",
       "      <td>...</td>\n",
       "      <td>...</td>\n",
       "      <td>...</td>\n",
       "      <td>...</td>\n",
       "      <td>...</td>\n",
       "      <td>...</td>\n",
       "      <td>...</td>\n",
       "    </tr>\n",
       "    <tr>\n",
       "      <th>2066</th>\n",
       "      <td>1743</td>\n",
       "      <td>5</td>\n",
       "      <td>5</td>\n",
       "      <td>5</td>\n",
       "      <td>5</td>\n",
       "      <td>5</td>\n",
       "      <td>5</td>\n",
       "    </tr>\n",
       "    <tr>\n",
       "      <th>2067</th>\n",
       "      <td>3968</td>\n",
       "      <td>3</td>\n",
       "      <td>3</td>\n",
       "      <td>3</td>\n",
       "      <td>3</td>\n",
       "      <td>3</td>\n",
       "      <td>3</td>\n",
       "    </tr>\n",
       "    <tr>\n",
       "      <th>2068</th>\n",
       "      <td>3809</td>\n",
       "      <td>2</td>\n",
       "      <td>2</td>\n",
       "      <td>2</td>\n",
       "      <td>2</td>\n",
       "      <td>2</td>\n",
       "      <td>2</td>\n",
       "    </tr>\n",
       "    <tr>\n",
       "      <th>2069</th>\n",
       "      <td>5485</td>\n",
       "      <td>6</td>\n",
       "      <td>6</td>\n",
       "      <td>6</td>\n",
       "      <td>6</td>\n",
       "      <td>6</td>\n",
       "      <td>6</td>\n",
       "    </tr>\n",
       "    <tr>\n",
       "      <th>2070</th>\n",
       "      <td>5899</td>\n",
       "      <td>0</td>\n",
       "      <td>0</td>\n",
       "      <td>0</td>\n",
       "      <td>0</td>\n",
       "      <td>0</td>\n",
       "      <td>0</td>\n",
       "    </tr>\n",
       "  </tbody>\n",
       "</table>\n",
       "<p>2071 rows × 7 columns</p>\n",
       "</div>"
      ],
      "text/plain": [
       "        id  lgbm_1  lgbm_2  lgbm_3  lgbm_4  resnet  t\n",
       "0      611       3       3       3       3       3  3\n",
       "1     6417       2       2       2       2       2  2\n",
       "2     3352       3       3       3       3       3  3\n",
       "3     4224       1       1       1       1       1  1\n",
       "4     3102       6       6       6       6       6  6\n",
       "...    ...     ...     ...     ...     ...     ... ..\n",
       "2066  1743       5       5       5       5       5  5\n",
       "2067  3968       3       3       3       3       3  3\n",
       "2068  3809       2       2       2       2       2  2\n",
       "2069  5485       6       6       6       6       6  6\n",
       "2070  5899       0       0       0       0       0  0\n",
       "\n",
       "[2071 rows x 7 columns]"
      ]
     },
     "execution_count": 57,
     "metadata": {},
     "output_type": "execute_result"
    }
   ],
   "source": [
    "df_predictions"
   ]
  },
  {
   "cell_type": "code",
   "execution_count": null,
   "metadata": {},
   "outputs": [],
   "source": []
  }
 ],
 "metadata": {
  "colab": {
   "provenance": []
  },
  "kernelspec": {
   "display_name": "Python 3 (ipykernel)",
   "language": "python",
   "name": "python3"
  },
  "language_info": {
   "codemirror_mode": {
    "name": "ipython",
    "version": 3
   },
   "file_extension": ".py",
   "mimetype": "text/x-python",
   "name": "python",
   "nbconvert_exporter": "python",
   "pygments_lexer": "ipython3",
   "version": "3.10.6"
  },
  "toc": {
   "base_numbering": 1,
   "nav_menu": {},
   "number_sections": true,
   "sideBar": true,
   "skip_h1_title": false,
   "title_cell": "Table of Contents",
   "title_sidebar": "Contents",
   "toc_cell": false,
   "toc_position": {},
   "toc_section_display": true,
   "toc_window_display": false
  }
 },
 "nbformat": 4,
 "nbformat_minor": 1
}
